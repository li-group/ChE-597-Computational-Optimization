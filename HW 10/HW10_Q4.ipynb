{
 "cells": [
  {
   "cell_type": "code",
   "execution_count": 3,
   "id": "1ddf9ccc-c08b-4114-afd3-af39690a1918",
   "metadata": {},
   "outputs": [
    {
     "name": "stdout",
     "output_type": "stream",
     "text": [
      "1 Set Declarations\n",
      "    s : Size=1, Index=None, Ordered=Insertion\n",
      "        Key  : Dimen : Domain : Size : Members\n",
      "        None :     1 :    Any :    3 : {1, 2, 3}\n",
      "\n",
      "3 Var Declarations\n",
      "    w : Size=12, Index={1, 2, 3, 4}*s\n",
      "        Key    : Lower : Value  : Upper : Fixed : Stale : Domain\n",
      "        (1, 1) :     0 :  310.0 :  None : False : False : NonNegativeReals\n",
      "        (1, 2) :     0 :  225.0 :  None : False : False : NonNegativeReals\n",
      "        (1, 3) :     0 :  140.0 :  None : False : False : NonNegativeReals\n",
      "        (2, 1) :     0 :   48.0 :  None : False : False : NonNegativeReals\n",
      "        (2, 2) :     0 :    0.0 :  None : False : False : NonNegativeReals\n",
      "        (2, 3) :     0 :    0.0 :  None : False : False : NonNegativeReals\n",
      "        (3, 1) :     0 : 6000.0 :  None : False : False : NonNegativeReals\n",
      "        (3, 2) :     0 : 5000.0 :  None : False : False : NonNegativeReals\n",
      "        (3, 3) :     0 : 4000.0 :  None : False : False : NonNegativeReals\n",
      "        (4, 1) :     0 :    0.0 :  None : False : False : NonNegativeReals\n",
      "        (4, 2) :     0 :    0.0 :  None : False : False : NonNegativeReals\n",
      "        (4, 3) :     0 :    0.0 :  None : False : False : NonNegativeReals\n",
      "    x : Size=3, Index={1, 2, 3}\n",
      "        Key : Lower : Value : Upper : Fixed : Stale : Domain\n",
      "          1 :     0 : 170.0 :  None : False : False : NonNegativeReals\n",
      "          2 :     0 :  80.0 :  None : False : False : NonNegativeReals\n",
      "          3 :     0 : 250.0 :  None : False : False : NonNegativeReals\n",
      "    y : Size=6, Index={1, 2}*s\n",
      "        Key    : Lower : Value             : Upper : Fixed : Stale : Domain\n",
      "        (1, 1) :     0 :               0.0 :  None : False : False : NonNegativeReals\n",
      "        (1, 2) :     0 :               0.0 :  None : False : False : NonNegativeReals\n",
      "        (1, 3) :     0 :               0.0 :  None : False : False : NonNegativeReals\n",
      "        (2, 1) :     0 :               0.0 :  None : False : False : NonNegativeReals\n",
      "        (2, 2) :     0 :               0.0 :  None : False : False : NonNegativeReals\n",
      "        (2, 3) :     0 : 48.00000000000003 :  None : False : False : NonNegativeReals\n",
      "\n",
      "1 Objective Declarations\n",
      "    obj : Size=1, Index=None, Active=True\n",
      "        Key  : Active : Sense    : Expression\n",
      "        None :   True : minimize : 150*x[1] + 230*x[2] + 260*x[3] + 79.33333333333333*(y[1,1] + y[1,2] + y[1,3]) - 56.666666666666664*(w[1,1] + w[1,2] + w[1,3]) + 70.0*(y[2,1] + y[2,2] + y[2,3]) - 50.0*(w[2,1] + w[2,2] + w[2,3]) - 12.0*(w[3,1] + w[3,2] + w[3,3]) - 3.3333333333333335*(w[4,1] + w[4,2] + w[4,3])\n",
      "\n",
      "5 Constraint Declarations\n",
      "    constraint1 : Size=1, Index=None, Active=True\n",
      "        Key  : Lower : Body               : Upper : Active\n",
      "        None :  -Inf : x[1] + x[2] + x[3] : 500.0 :   True\n",
      "    constraint2 : Size=3, Index=s, Active=True\n",
      "        Key : Lower : Body                       : Upper : Active\n",
      "          1 : 200.0 :   3*x[1] + y[1,1] - w[1,1] :  +Inf :   True\n",
      "          2 : 200.0 : 2.5*x[1] + y[1,2] - w[1,2] :  +Inf :   True\n",
      "          3 : 200.0 :   2*x[1] + y[1,3] - w[1,3] :  +Inf :   True\n",
      "    constraint3 : Size=3, Index=s, Active=True\n",
      "        Key : Lower : Body                       : Upper : Active\n",
      "          1 : 240.0 : 3.6*x[2] + y[2,1] - w[2,1] :  +Inf :   True\n",
      "          2 : 240.0 :   3*x[2] + y[2,2] - w[2,2] :  +Inf :   True\n",
      "          3 : 240.0 : 2.4*x[2] + y[2,3] - w[2,3] :  +Inf :   True\n",
      "    constraint4 : Size=3, Index=s, Active=True\n",
      "        Key : Lower : Body                      : Upper : Active\n",
      "          1 :  -Inf : w[3,1] + w[4,1] - 24*x[3] :   0.0 :   True\n",
      "          2 :  -Inf : w[3,2] + w[4,2] - 20*x[3] :   0.0 :   True\n",
      "          3 :  -Inf : w[3,3] + w[4,3] - 16*x[3] :   0.0 :   True\n",
      "    constraint5 : Size=3, Index=s, Active=True\n",
      "        Key : Lower : Body   : Upper  : Active\n",
      "          1 :  -Inf : w[3,1] : 6000.0 :   True\n",
      "          2 :  -Inf : w[3,2] : 6000.0 :   True\n",
      "          3 :  -Inf : w[3,3] : 6000.0 :   True\n",
      "\n",
      "10 Declarations: s x y w obj constraint1 constraint2 constraint3 constraint4 constraint5\n"
     ]
    }
   ],
   "source": [
    "from pyomo.environ import *\n",
    "model = ConcreteModel()\n",
    "model.s = Set(initialize=range(1, 4))\n",
    "model.x = Var(range(1,4),domain = NonNegativeReals)\n",
    "model.y = Var(range(1,3),model.s,domain = NonNegativeReals)\n",
    "model.w = Var(range(1,5),model.s,domain = NonNegativeReals)\n",
    "yield_1 = {1:3,2:2.5,3:2}\n",
    "yield_2 = {1:3.6,2:3,3:2.4}\n",
    "yield_3 = {1:24,2:20,3:16}\n",
    "model.obj = Objective(expr = 150*model.x[1] +230*model.x[2] +260*model.x[3] +238/3*sum(model.y[1,s] for s in model.s) - 170/3*sum(model.w[1,s] for s in model.s)\n",
    "+210/3*sum(model.y[2,s] for s in model.s) -150/3*sum(model.w[2,s] for s in model.s) \n",
    "-36/3*sum(model.w[3,s] for s in model.s) -10/3*sum(model.w[4,s] for s in model.s) , sense=minimize)\n",
    "model.constraint1 = Constraint(expr = model.x[1] +model.x[2] +model.x[3] <= 500) \n",
    "model.constraint2 = Constraint(model.s, rule=lambda model, s:yield_1[s]*model.x[1] +model.y[1,s] -model.w[1,s] >= 200)  \n",
    "model.constraint3 = Constraint(model.s, rule=lambda model, s:yield_2[s]*model.x[2] +model.y[2,s] -model.w[2,s] >= 240) \n",
    "model.constraint4 = Constraint(model.s, rule=lambda model, s:model.w[3,s] +model.w[4,s] <= yield_3[s]*model.x[3])\n",
    "model.constraint5 = Constraint(model.s, rule=lambda model, s:model.w[3,s] <= 6000)\n",
    "solver = SolverFactory('gurobi')  \n",
    "solver.solve(model)\n",
    "model.pprint()   "
   ]
  },
  {
   "cell_type": "code",
   "execution_count": 4,
   "id": "1b0796de-fdb3-4250-91f4-756c532a48cf",
   "metadata": {},
   "outputs": [
    {
     "data": {
      "text/plain": [
       "-108390.0"
      ]
     },
     "execution_count": 4,
     "metadata": {},
     "output_type": "execute_result"
    }
   ],
   "source": [
    "model.obj()"
   ]
  },
  {
   "cell_type": "code",
   "execution_count": null,
   "id": "f35fd6e9-1445-4d93-86a9-0e1b0ff49096",
   "metadata": {},
   "outputs": [],
   "source": []
  }
 ],
 "metadata": {
  "kernelspec": {
   "display_name": "Python 3 (ipykernel)",
   "language": "python",
   "name": "python3"
  },
  "language_info": {
   "codemirror_mode": {
    "name": "ipython",
    "version": 3
   },
   "file_extension": ".py",
   "mimetype": "text/x-python",
   "name": "python",
   "nbconvert_exporter": "python",
   "pygments_lexer": "ipython3",
   "version": "3.12.2"
  }
 },
 "nbformat": 4,
 "nbformat_minor": 5
}
