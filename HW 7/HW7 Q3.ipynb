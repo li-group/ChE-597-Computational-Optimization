{
 "cells": [
  {
   "cell_type": "code",
   "execution_count": null,
   "metadata": {},
   "outputs": [],
   "source": [
    "from pyomo.environ import *\n",
    "\n",
    "\n",
    "model = ConcreteModel()\n",
    "\n",
    "# Set declarations (assuming that the 'orders' and 'machines' sets are based on the maximum values from the data)\n",
    "model.I = Set(initialize=range(1, 8))  # Set of orders i\n",
    "model.J = Set(initialize=range(1, 4))  # Set of machines j\n",
    "\n",
    "# Parameter declarations\n",
    "# Cost on Machine\n",
    "model.r = Param(model.I, initialize={1: 2, 2: 3, 3: 4, 4: 5, 5: 10, 6: 1, 7: 2})\n",
    "model.d = Param(model.I, initialize={1: 16, 2: 13, 3: 21, 4: 28, 5: 24, 6: 28, 7: 23})\n",
    "model.c = Param(model.I, model.J, initialize={(1, 1): 10, (1, 2): 6, (1, 3): 8,\n",
    "                                                  (2, 1): 8, (2, 2): 5, (2, 3): 6,\n",
    "                                                  (3, 1): 12, (3, 2): 7, (3, 3): 10,\n",
    "                                                  (4, 1): 10, (4, 2): 6, (4, 3): 8,\n",
    "                                                  (5, 1): 8, (5, 2): 5, (5, 3): 7,\n",
    "                                                  (6, 1): 12, (6, 2): 7, (6, 3): 10,\n",
    "                                                  (7, 1): 12, (7, 2): 7, (7, 3): 10})\n",
    "\n",
    "model.p = Param(model.I, model.J, initialize={(1, 1): 10, (1, 2): 14, (1, 3): 12,\n",
    "                                               (2, 1): 6, (2, 2): 8, (2, 3): 7,\n",
    "                                               (3, 1): 11, (3, 2): 16, (3, 3): 13,\n",
    "                                               (4, 1): 6, (4, 2): 12, (4, 3): 8,\n",
    "                                               (5, 1): 10, (5, 2): 16, (5, 3): 12,\n",
    "                                               (6, 1): 7, (6, 2): 12, (6, 3): 10,\n",
    "                                               (7, 1): 10, (7, 2): 8, (7, 3): 10})\n",
    "\n",
    "# Durations p_im for Set 1\n",
    "model.p = Param(model.I, model.J, initialize={(1, 1): 10, (1, 2): 14, (1, 3): 12,\n",
    "                                               (2, 1): 6, (2, 2): 8, (2, 3): 7,\n",
    "                                               (3, 1): 11, (3, 2): 16, (3, 3): 13,\n",
    "                                               (4, 1): 6, (4, 2): 12, (4, 3): 8,\n",
    "                                               (5, 1): 10, (5, 2): 16, (5, 3): 12,\n",
    "                                               (6, 1): 7, (6, 2): 12, (6, 3): 10,\n",
    "                                               (7, 1): 10, (7, 2): 8, (7, 3): 10})\n",
    "\n",
    "# Uncomment the following and adjust the values for the second set of durations p_im for Set 2\n",
    "'''\n",
    "model.p = Param(model.I, model.J, initialize={(1, 1): 5, (1, 2): 7, (1, 3): 6,\n",
    "                                               (2, 1): 3, (2, 2): 4, (2, 3): 3,\n",
    "                                               (3, 1): 2, (3, 2): 4, (3, 3): 3,\n",
    "                                               (4, 1): 3, (4, 2): 6, (4, 3): 4,\n",
    "                                               (5, 1): 2, (5, 2): 4, (5, 3): 3,\n",
    "                                               (6, 1): 1, (6, 2): 3, (6, 3): 2,\n",
    "                                               (7, 1): 1, (7, 2): 2, (7, 3): 1})\n",
    "'''\n"
   ]
  }
 ],
 "metadata": {
  "kernelspec": {
   "display_name": "opti_chat",
   "language": "python",
   "name": "python3"
  },
  "language_info": {
   "codemirror_mode": {
    "name": "ipython",
    "version": 3
   },
   "file_extension": ".py",
   "mimetype": "text/x-python",
   "name": "python",
   "nbconvert_exporter": "python",
   "pygments_lexer": "ipython3",
   "version": "3.9.12"
  }
 },
 "nbformat": 4,
 "nbformat_minor": 2
}
