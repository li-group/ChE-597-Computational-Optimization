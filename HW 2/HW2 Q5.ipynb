{
 "cells": [
  {
   "cell_type": "markdown",
   "id": "19ec6bfc",
   "metadata": {},
   "source": [
    "# Problem Statement: Optimal Control for CSTR\n",
    "\n",
    "We are given the liearized discrete state space model, time horizon, initial state, setpoints for controlled variables, and variable bounds \n",
    "\n",
    "\n",
    "\n",
    "\n",
    "\n"
   ]
  },
  {
   "cell_type": "code",
   "execution_count": 1,
   "id": "ade3fb47-a701-4989-b9d3-273b50e657a0",
   "metadata": {
    "tags": []
   },
   "outputs": [],
   "source": [
    "# IMPORTS\n",
    "import numpy as np\n",
    "import matplotlib.pyplot as plt\n",
    "\n",
    "from pyomo.environ import *"
   ]
  },
  {
   "cell_type": "markdown",
   "id": "2ba57f20",
   "metadata": {},
   "source": [
    "#### Defining state space model, time horizon, initial state, and variable bounds"
   ]
  },
  {
   "cell_type": "markdown",
   "id": "89f1b6d8",
   "metadata": {},
   "source": [
    "Note: since it is assumed that all the states are measurable without noise, here the controlled variables are represented using x instead for simplicity"
   ]
  },
  {
   "cell_type": "code",
   "execution_count": 2,
   "id": "2de86199-e1bd-41a2-aa49-055f77bc6f35",
   "metadata": {
    "tags": []
   },
   "outputs": [],
   "source": [
    "# linear state-space model\n",
    "A = np.array(([0.2681,-0.00338,-0.00728],[9.703,0.3279,-25.44],[0,0,1]))\n",
    "B = np.array(([-0.00537,0.1655],[1.297,97.91],[0,-6.637]))\n",
    "\n",
    "# time horizon\n",
    "Np = 3\n",
    "\n",
    "# initial condition\n",
    "xinit = [-0.03, 0, 0.3]\n",
    "\n",
    "# bounds for state and input\n",
    "x_max = [0.05, 5, 0.5]\n",
    "x_min = [-0.05, -5, -0.5]\n",
    "u_max = [10, 0.05]\n",
    "u_min = [-10, -0.05]\n"
   ]
  },
  {
   "cell_type": "markdown",
   "id": "226737ba",
   "metadata": {},
   "source": [
    "## Model\n",
    "\n",
    "The LP model for the problem can be derived as follows:\n",
    "\n",
    "\n",
    "\\begin{aligned}\n",
    "\\min_{u(0),u(1),u(2)} \\quad &\\sum_{k=0}^{k=3} (z_1(k)+z_2(k)) \\\\\n",
    "\\textit{s.t.} \\quad &{x}(k+1) ={A} {x}(k)+{B u}(k) \\quad k=0,1,2 \\\\\n",
    "&y(k) ={C} {x}(k) \\quad k=0,1,2,3 \\\\\n",
    "&{x}(0) = \\begin{bmatrix}\n",
    "-0.03 \\\\\n",
    "0 \\\\\n",
    "0.3\n",
    "\\end{bmatrix} \\\\\n",
    "&\\begin{bmatrix}\n",
    "-0.05 \\\\\n",
    "-5 \\\\\n",
    "-0.5\n",
    "\\end{bmatrix} \n",
    "\\leq x(k) \\leq \n",
    "\\begin{bmatrix}\n",
    "0.05 \\\\\n",
    "5 \\\\\n",
    "0.5\n",
    "\\end{bmatrix} \\quad k=0,1,2,3 \\\\\n",
    "&\\begin{bmatrix}\n",
    "-10 \\\\\n",
    "-0.05\n",
    "\\end{bmatrix} \n",
    "\\leq u(k) \\leq \n",
    "\\begin{bmatrix}\n",
    "10 \\\\\n",
    "0.05\n",
    "\\end{bmatrix} \\quad k=0,1,2 \\\\\n",
    "&-z_1(k) \\leq y_1(k) \\leq z_1(k) \\quad k=0,1,2,3 \\\\\n",
    "&-z_2(k) \\leq y_3(k) \\leq z_2(k) \\quad k=0,1,2,3 \\\\\n",
    "\\end{aligned}\n",
    "\n",
    "\n",
    "\n",
    "## Implement"
   ]
  },
  {
   "cell_type": "code",
   "execution_count": 3,
   "id": "bcb62625-7c25-4001-b16c-417ed423cc96",
   "metadata": {
    "tags": []
   },
   "outputs": [],
   "source": [
    "m = ConcreteModel()"
   ]
  },
  {
   "cell_type": "markdown",
   "id": "ac097411",
   "metadata": {},
   "source": [
    "#### Initializing Sets"
   ]
  },
  {
   "cell_type": "code",
   "execution_count": 4,
   "id": "7d39f786-9063-41cc-bad8-50c9cd7c300c",
   "metadata": {
    "tags": []
   },
   "outputs": [],
   "source": [
    "# dimension of state and input\n",
    "nx = 3\n",
    "nu = 2\n",
    "\n",
    "# Define prediction index k and variable sizes \n",
    "m.k  = RangeSet(0, Np)  # time instants\n",
    "m.kk = RangeSet(0, Np-1)    # time intervals\n",
    "m.nx = RangeSet(nx) # x1, x2, x3\n",
    "m.nu = RangeSet(nu) # u1 and u2\n",
    "m.nz = RangeSet(2)  # z1 and z2"
   ]
  },
  {
   "cell_type": "markdown",
   "id": "736e6016",
   "metadata": {},
   "source": [
    "#### Defining Variables"
   ]
  },
  {
   "cell_type": "code",
   "execution_count": 5,
   "id": "49a04f6b-9721-42b6-aa1c-a4e6320d9727",
   "metadata": {
    "tags": []
   },
   "outputs": [],
   "source": [
    "m.x = Var(m.nx, m.k, initialize=0)\n",
    "m.u = Var(m.nu, m.kk, initialize=0)\n",
    "m.z = Var(m.nz, m.k, within=NonNegativeReals)"
   ]
  },
  {
   "cell_type": "markdown",
   "id": "82ac18f5",
   "metadata": {},
   "source": [
    "#### Defining Objective"
   ]
  },
  {
   "cell_type": "code",
   "execution_count": 6,
   "id": "e3f0a3d1-7c58-4968-9e0d-48b5540ffa5f",
   "metadata": {
    "tags": []
   },
   "outputs": [],
   "source": [
    "m.totalCost = sum(m.z[i,k] for i in m.nz for k in m.k)\n",
    "m.obj = Objective(expr=m.totalCost, sense=minimize)"
   ]
  },
  {
   "cell_type": "markdown",
   "id": "122b490d",
   "metadata": {},
   "source": [
    "#### Defining Constraints"
   ]
  },
  {
   "cell_type": "code",
   "execution_count": 7,
   "id": "30040fa4-32bc-430f-b6d3-9b0ecff5d142",
   "metadata": {
    "tags": []
   },
   "outputs": [],
   "source": [
    "# process state space model\n",
    "m.dynamicsx1 = Constraint(m.kk, rule=lambda m, k: \n",
    "    m.x[1,k+1] == (A[0,0]*m.x[1,k] + A[0,1]*m.x[2,k] + A[0,2]*m.x[3,k]) + \\\n",
    "        (B[0,0]*m.u[1,k] + B[0,1]*m.u[2,k]))\n",
    "m.dynamicsx2 = Constraint(m.kk, rule=lambda m, k: \n",
    "    m.x[2,k+1] == (A[1,0]*m.x[1,k] + A[1,1]*m.x[2,k] + A[1,2]*m.x[3,k]) + \\\n",
    "        (B[1,0]*m.u[1,k] + B[1,1]*m.u[2,k]))\n",
    "m.dynamicsx3 = Constraint(m.kk, rule=lambda m, k: \n",
    "    m.x[3,k+1] == (A[2,0]*m.x[1,k] + A[2,1]*m.x[2,k] + A[2,2]*m.x[3,k]) + \\\n",
    "        (B[2,0]*m.u[1,k] + B[2,1]*m.u[2,k]))\n",
    "\n",
    "# y=Cx is not added here, considering y=x"
   ]
  },
  {
   "cell_type": "code",
   "execution_count": 8,
   "id": "d9ecda0b-d010-4b4a-a73b-3278a98c34c9",
   "metadata": {
    "tags": []
   },
   "outputs": [],
   "source": [
    "# fixed initial state\n",
    "for i in m.nx:\n",
    "    m.x[i,0].fix(xinit[i-1])"
   ]
  },
  {
   "cell_type": "code",
   "execution_count": 9,
   "id": "dc0c60f7",
   "metadata": {},
   "outputs": [],
   "source": [
    "# Constraints on the states and inputs (add bounds)\n",
    "m.cons = ConstraintList()\n",
    "for j in m.k:\n",
    "    for i in m.nx:\n",
    "        m.cons.add(inequality(x_min[i-1], m.x[i,j], x_max[i-1]))\n",
    "for j in m.kk:\n",
    "    for i in m.nu:\n",
    "        m.cons.add(inequality(u_min[i-1], m.u[i,j], u_max[i-1]))"
   ]
  },
  {
   "cell_type": "code",
   "execution_count": 10,
   "id": "ebd1c46b",
   "metadata": {},
   "outputs": [],
   "source": [
    "# additional constraints due to introducing z\n",
    "# here y1=x1 and y3=x3\n",
    "m.addcons = ConstraintList()\n",
    "for i in m.k:\n",
    "    m.addcons.add(m.z[1,i] >= m.x[1,i])\n",
    "    m.addcons.add(m.z[1,i] >= -m.x[1,i])\n",
    "    m.addcons.add(m.z[2,i] >= m.x[3,i])\n",
    "    m.addcons.add(m.z[2,i] >= -m.x[3,i])"
   ]
  },
  {
   "cell_type": "markdown",
   "id": "ad04f35e",
   "metadata": {},
   "source": [
    "## Solve and Postprocess"
   ]
  },
  {
   "cell_type": "code",
   "execution_count": 11,
   "id": "322e367c-ba16-49d6-9fb6-332daa260c23",
   "metadata": {
    "tags": []
   },
   "outputs": [],
   "source": [
    "sol = SolverFactory('cplex')\n",
    "results = sol.solve(m)"
   ]
  },
  {
   "cell_type": "code",
   "execution_count": 12,
   "id": "df97d4ca",
   "metadata": {},
   "outputs": [
    {
     "data": {
      "image/png": "[encoded data removed]",
      "text/plain": [
       "<Figure size 640x480 with 4 Axes>"
      ]
     },
     "metadata": {},
     "output_type": "display_data"
    }
   ],
   "source": [
    "# plot controlled variables and input variables\n",
    "y1  = [value(m.x[1,k]) for k in m.k]\n",
    "y2  = [value(m.x[3,k]) for k in m.k]\n",
    "u1 = [value(m.u[1,k]) for k in m.kk]\n",
    "u2  = [value(m.u[2,k]) for k in m.kk]\n",
    "\n",
    "\n",
    "plt.figure()\n",
    "tx = np.linspace(0,Np,Np+1)\n",
    "# Subplot - x1\n",
    "plt.subplot(221)\n",
    "plt.plot(tx,y1)\n",
    "plt.ylabel('$c$')\n",
    "plt.xlabel('Sampling points')\n",
    "# Subplot - x3\n",
    "plt.subplot(222)\n",
    "plt.plot(tx,y2)\n",
    "plt.ylabel('$h$')\n",
    "plt.xlabel('Sampling points')\n",
    "# Subplot - u1\n",
    "plt.subplot(223)\n",
    "plt.step(tx, u1 + [u1[-1]], where='post')\n",
    "plt.ylabel('$Tc$')\n",
    "plt.xlabel('Sampling points')\n",
    "# Subplot - u2\n",
    "plt.subplot(224)\n",
    "plt.step(tx, u2 + [u2[-1]],where='post')\n",
    "plt.ylabel('$F$')\n",
    "plt.xlabel('Sampling points')\n",
    "\n",
    "plt.subplots_adjust(hspace=0.4, wspace=0.5)\n",
    "\n",
    "plt.show()\n"
   ]
  }
 ],
 "metadata": {
  "kernelspec": {
   "display_name": "Python 3 (ipykernel)",
   "language": "python",
   "name": "python3"
  },
  "language_info": {
   "codemirror_mode": {
    "name": "ipython",
    "version": 3
   },
   "file_extension": ".py",
   "mimetype": "text/x-python",
   "name": "python",
   "nbconvert_exporter": "python",
   "pygments_lexer": "ipython3",
   "version": "3.9.13"
  }
 },
 "nbformat": 4,
 "nbformat_minor": 5
}
