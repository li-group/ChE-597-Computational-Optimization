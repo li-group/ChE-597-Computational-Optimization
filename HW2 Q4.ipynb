{
 "cells": [
  {
   "cell_type": "code",
   "execution_count": 83,
   "id": "2a5b079a-83ad-47cd-a8bc-706cc7376428",
   "metadata": {
    "tags": []
   },
   "outputs": [],
   "source": [
    "# IMPORTS"
   ]
  },
  {
   "cell_type": "code",
   "execution_count": 84,
   "id": "ade3fb47-a701-4989-b9d3-273b50e657a0",
   "metadata": {
    "tags": []
   },
   "outputs": [],
   "source": [
    "import matplotlib.pyplot as plt\n",
    "import numpy as np\n",
    "import pandas as pd\n",
    "\n",
    "import shutil\n",
    "import sys\n",
    "import os.path\n",
    "from pyomo.environ import *\n",
    "\n",
    "import pyomo.environ as pe\n",
    "import pyomo.opt as po"
   ]
  },
  {
   "cell_type": "code",
   "execution_count": 85,
   "id": "9ea71bda-1db5-4518-9896-3e7b008cd16f",
   "metadata": {
    "tags": []
   },
   "outputs": [],
   "source": [
    "# DEFINING DATA"
   ]
  },
  {
   "cell_type": "code",
   "execution_count": 86,
   "id": "2de86199-e1bd-41a2-aa49-055f77bc6f35",
   "metadata": {
    "tags": []
   },
   "outputs": [],
   "source": [
    "k = set(range(1, 4))"
   ]
  },
  {
   "cell_type": "code",
   "execution_count": 87,
   "id": "00de49fa-d73c-468f-981a-034f5d9e642e",
   "metadata": {
    "tags": []
   },
   "outputs": [],
   "source": [
    "nodes = {'s1','s2','s3','x','y','t1','t2','t3'}"
   ]
  },
  {
   "cell_type": "code",
   "execution_count": 88,
   "id": "1938295c-c8c1-4808-94b6-aaad022c6218",
   "metadata": {
    "tags": []
   },
   "outputs": [],
   "source": [
    "#d = {1:9,2:2,3:3}  # Demand of each k (commodity)"
   ]
  },
  {
   "cell_type": "code",
   "execution_count": 89,
   "id": "ebbaab5a-1571-4a23-881a-b69176502b63",
   "metadata": {
    "tags": []
   },
   "outputs": [],
   "source": [
    "d = {\n",
    "    ('s1',1):9,\n",
    "    ('s2',2):2,\n",
    "    ('s3',3):3,\n",
    "    ('t1',1):-9,\n",
    "    ('t2',2):-2,\n",
    "    ('t3',3):-3,\n",
    "}  # Demand and sink of each k (commodity)"
   ]
  },
  {
   "cell_type": "code",
   "execution_count": 90,
   "id": "ddc6b311-fcad-4c51-bbec-a19211c8a496",
   "metadata": {
    "tags": []
   },
   "outputs": [],
   "source": [
    "flow = {\n",
    "    's1':1,\n",
    "    's2':1,\n",
    "    's3':1,\n",
    "    'x':0,\n",
    "    'y':0,\n",
    "    't1':-1,\n",
    "    't2':-1,\n",
    "    't3':-1,\n",
    "}   "
   ]
  },
  {
   "cell_type": "code",
   "execution_count": 91,
   "id": "7a0ae0f8-79fa-4c65-a8b1-254333c5e5cb",
   "metadata": {
    "tags": []
   },
   "outputs": [],
   "source": [
    "directions = {\n",
    "    ('s1','t1'):1,\n",
    "    ('s1','x'):1,\n",
    "    ('s2','x'):1,\n",
    "    ('s3','x'):1,\n",
    "    ('s3','t3'):1,\n",
    "    ('x','y'):1,\n",
    "    ('y','t1'):1,\n",
    "    ('y','t2'):1,\n",
    "    ('y','t3'):1,\n",
    "}"
   ]
  },
  {
   "cell_type": "code",
   "execution_count": 92,
   "id": "d6d86be8-ad8b-4c1a-bce7-d50dc0f99688",
   "metadata": {
    "tags": []
   },
   "outputs": [],
   "source": [
    "#Capacity\n",
    "u = {\n",
    "    ('s1','t1'):7,\n",
    "    ('s1','x'):5,\n",
    "    ('s2','x'):3,\n",
    "    ('s3','x'):5,\n",
    "    ('s3','t3'):5,\n",
    "    ('x','y'):14,\n",
    "    ('y','t1'):3,\n",
    "    ('y','t2'):3,\n",
    "    ('y','t3'):4,\n",
    "}"
   ]
  },
  {
   "cell_type": "code",
   "execution_count": 93,
   "id": "d5116127-fb68-4a97-bb42-8d1949d34ef5",
   "metadata": {
    "tags": []
   },
   "outputs": [],
   "source": [
    "#Cost\n",
    "c = {\n",
    "    ('s1','t1'):3,\n",
    "    ('s1','x'):1,\n",
    "    ('s2','x'):2,\n",
    "    ('s3','x'):2,\n",
    "    ('s3','t3'):5,\n",
    "    ('x','y'):2,\n",
    "    ('y','t1'):1,\n",
    "    ('y','t2'):2,\n",
    "    ('y','t3'):2,\n",
    "}"
   ]
  },
  {
   "cell_type": "code",
   "execution_count": 94,
   "id": "2b0f61fd-b594-4ed7-8398-555edd078411",
   "metadata": {
    "tags": []
   },
   "outputs": [],
   "source": [
    "#Model"
   ]
  },
  {
   "cell_type": "code",
   "execution_count": 95,
   "id": "bcb62625-7c25-4001-b16c-417ed423cc96",
   "metadata": {
    "tags": []
   },
   "outputs": [],
   "source": [
    "m = pe.ConcreteModel()"
   ]
  },
  {
   "cell_type": "code",
   "execution_count": 96,
   "id": "cb6756d9-55ea-46af-ab46-3649ee9d1ad0",
   "metadata": {
    "tags": []
   },
   "outputs": [],
   "source": [
    "# Initializing Sets"
   ]
  },
  {
   "cell_type": "code",
   "execution_count": 97,
   "id": "7d39f786-9063-41cc-bad8-50c9cd7c300c",
   "metadata": {
    "tags": []
   },
   "outputs": [
    {
     "name": "stdout",
     "output_type": "stream",
     "text": [
      "WARNING: Initializing ordered Set k with a fundamentally unordered data source\n",
      "(type: set).  This WILL potentially lead to nondeterministic behavior in Pyomo\n",
      "WARNING: Initializing ordered Set nodes with a fundamentally unordered data\n",
      "source (type: set).  This WILL potentially lead to nondeterministic behavior\n",
      "in Pyomo\n"
     ]
    }
   ],
   "source": [
    "m.k = pe.Set(initialize=k)\n",
    "m.nodes = pe.Set(initialize=nodes)"
   ]
  },
  {
   "cell_type": "code",
   "execution_count": 98,
   "id": "fd330f1f-bfd2-49fb-bda1-0b24d4186d03",
   "metadata": {
    "tags": []
   },
   "outputs": [],
   "source": [
    "# Initializing Parameters"
   ]
  },
  {
   "cell_type": "code",
   "execution_count": 99,
   "id": "79a5e919-8fea-41a7-9ae6-bfb6d60e43f3",
   "metadata": {
    "tags": []
   },
   "outputs": [],
   "source": [
    "m.d = pe.Param(m.nodes,m.k,initialize=d,default = 0) \n",
    "m.flow = pe.Param(m.nodes,initialize=flow) \n",
    "m.directions = pe.Param(m.nodes,m.nodes,initialize=directions,default = 0) \n",
    "m.u = pe.Param(m.nodes,m.nodes,initialize=u, default = 0) \n",
    "m.c = pe.Param(m.nodes,m.nodes,initialize=c, default = 0)"
   ]
  },
  {
   "cell_type": "code",
   "execution_count": 100,
   "id": "d58c24f4-f271-4534-81b3-caf6018eeb98",
   "metadata": {
    "tags": []
   },
   "outputs": [],
   "source": [
    "# Initializing Variables"
   ]
  },
  {
   "cell_type": "code",
   "execution_count": 101,
   "id": "49a04f6b-9721-42b6-aa1c-a4e6320d9727",
   "metadata": {
    "tags": []
   },
   "outputs": [],
   "source": [
    "#m.x = pe.Var(m.nodes,m.nodes,m.k,domain=pe.NonNegativeReals,initialize=2) \n",
    "m.X = pe.Var(m.nodes,m.nodes,m.k,domain=pe.NonNegativeReals) "
   ]
  },
  {
   "cell_type": "code",
   "execution_count": 102,
   "id": "ec61bcc4-99c9-4ab6-a48c-67ac0cc43603",
   "metadata": {
    "tags": []
   },
   "outputs": [],
   "source": [
    "# Defining Objective"
   ]
  },
  {
   "cell_type": "code",
   "execution_count": 103,
   "id": "e3f0a3d1-7c58-4968-9e0d-48b5540ffa5f",
   "metadata": {
    "tags": []
   },
   "outputs": [],
   "source": [
    "obj_expr = sum( sum(m.c[i,j]*m.X[i,j,k] for k in m.k) for i in m.nodes for j in m.nodes)\n",
    "m.obj = pe.Objective(sense=pe.minimize, expr=obj_expr)"
   ]
  },
  {
   "cell_type": "code",
   "execution_count": 104,
   "id": "ac95e9e1-fc17-4af3-9aaa-e95a45aa4cac",
   "metadata": {
    "tags": []
   },
   "outputs": [],
   "source": [
    "# Defining Constraints"
   ]
  },
  {
   "cell_type": "code",
   "execution_count": 105,
   "id": "30040fa4-32bc-430f-b6d3-9b0ecff5d142",
   "metadata": {
    "tags": []
   },
   "outputs": [],
   "source": [
    "# Capacity constraints\n",
    "def capacity_rule(m,i,j):\n",
    "    return sum(m.X[i,j,k] for k in m.k) <= m.u[i,j]\n",
    "\n",
    "m.capacity_constraint =  pe.Constraint(m.nodes,m.nodes,rule=capacity_rule)"
   ]
  },
  {
   "cell_type": "code",
   "execution_count": 106,
   "id": "d9ecda0b-d010-4b4a-a73b-3278a98c34c9",
   "metadata": {
    "tags": []
   },
   "outputs": [],
   "source": [
    "# Flow conservation\n",
    "def flow_rule(m,i,k):\n",
    "    return  sum(m.X[i,p,k] for p in m.nodes) - sum(m.X[w,i,k] for w in m.nodes) == m.d[i,k]\n",
    "\n",
    "m.flow_constraint =  pe.Constraint(m.nodes,m.k,rule=flow_rule)"
   ]
  },
  {
   "cell_type": "code",
   "execution_count": 107,
   "id": "41130d44-5e5c-4e49-ab3c-b858fbc3a8ce",
   "metadata": {
    "tags": []
   },
   "outputs": [],
   "source": [
    "# # Feasibilty constraint\n",
    "# def feasibilty_rule(m,i,j,k):\n",
    "#     return m.X[i,j,k] <= m.u[i,j]*m.directions[i,j]\n",
    "\n",
    "# m.feasibilty_constraint =  pe.Constraint(m.nodes,m.nodes,m.k,rule=feasibilty_rule)"
   ]
  },
  {
   "cell_type": "code",
   "execution_count": 108,
   "id": "257d06c3-e0dd-4f46-a056-f2c48a5b095c",
   "metadata": {
    "tags": []
   },
   "outputs": [],
   "source": [
    "# Solve and Postprocess"
   ]
  },
  {
   "cell_type": "code",
   "execution_count": 109,
   "id": "322e367c-ba16-49d6-9fb6-332daa260c23",
   "metadata": {
    "tags": []
   },
   "outputs": [
    {
     "name": "stdout",
     "output_type": "stream",
     "text": [
      "Set parameter Username\n",
      "Academic license - for non-commercial use only - expires 2024-12-19\n",
      "Read LP format model from file /var/folders/ch/190yzmt56zsfp9c_z9g_fcjc0000gn/T/tmpt2rp7ab2.pyomo.lp\n",
      "Reading time = 0.01 seconds\n",
      "x1: 88 rows, 192 columns, 528 nonzeros\n",
      "Gurobi Optimizer version 11.0.0 build v11.0.0rc2 (mac64[x86] - Darwin 21.4.0 21E258)\n",
      "\n",
      "CPU model: Intel(R) Core(TM) i5-5250U CPU @ 1.60GHz\n",
      "Thread count: 2 physical cores, 4 logical processors, using up to 4 threads\n",
      "\n",
      "Optimize a model with 88 rows, 192 columns and 528 nonzeros\n",
      "Model fingerprint: 0xea6d33cc\n",
      "Coefficient statistics:\n",
      "  Matrix range     [1e+00, 1e+00]\n",
      "  Objective range  [1e+00, 5e+00]\n",
      "  Bounds range     [0e+00, 0e+00]\n",
      "  RHS range        [2e+00, 1e+01]\n",
      "Presolve removed 88 rows and 192 columns\n",
      "Presolve time: 0.02s\n",
      "Presolve: All rows and columns removed\n",
      "Iteration    Objective       Primal Inf.    Dual Inf.      Time\n",
      "       0    5.6000000e+01   0.000000e+00   0.000000e+00      0s\n",
      "\n",
      "Solved in 0 iterations and 0.03 seconds (0.00 work units)\n",
      "Optimal objective  5.600000000e+01\n"
     ]
    }
   ],
   "source": [
    "solver = po.SolverFactory('gurobi')\n",
    "results = solver.solve(m, tee=True)"
   ]
  },
  {
   "cell_type": "code",
   "execution_count": 110,
   "id": "56bc1215-7429-448e-9f8c-621e4bf9ca09",
   "metadata": {
    "tags": []
   },
   "outputs": [
    {
     "name": "stdout",
     "output_type": "stream",
     "text": [
      "Min Cost  56.0\n"
     ]
    }
   ],
   "source": [
    "print(\"Min Cost \",pe.value(m.obj))"
   ]
  },
  {
   "cell_type": "code",
   "execution_count": 115,
   "id": "e5fdcf9a-3a18-4f90-b2de-9ddbb52fbc3c",
   "metadata": {},
   "outputs": [
    {
     "name": "stdout",
     "output_type": "stream",
     "text": [
      "Unit of Commodity 1  in direction s1 -> t1  is  7.0\n",
      "Unit of Commodity 1  in direction s1 -> x  is  2.0\n",
      "Unit of Commodity 1  in direction x -> y  is  2.0\n",
      "Unit of Commodity 1  in direction y -> t1  is  2.0\n",
      "Unit of Commodity 2  in direction s2 -> x  is  2.0\n",
      "Unit of Commodity 2  in direction x -> y  is  2.0\n",
      "Unit of Commodity 2  in direction y -> t2  is  2.0\n",
      "Unit of Commodity 3  in direction s3 -> t3  is  3.0\n"
     ]
    }
   ],
   "source": [
    "for k in m.k:\n",
    "    for i in m.nodes:\n",
    "        for j in m.nodes:\n",
    "            if pe.value(m.X[i,j,k])>0:\n",
    "                print(\"Unit of Commodity\",k,\" in direction\",i,\"->\",j,\" is \",pe.value(m.X[i,j,k]))\n"
   ]
  },
  {
   "cell_type": "code",
   "execution_count": null,
   "id": "efc9b798-a3e6-4ce7-989c-ff3a6100566f",
   "metadata": {},
   "outputs": [],
   "source": []
  }
 ],
 "metadata": {
  "kernelspec": {
   "display_name": "Python 3 (ipykernel)",
   "language": "python",
   "name": "python3"
  },
  "language_info": {
   "codemirror_mode": {
    "name": "ipython",
    "version": 3
   },
   "file_extension": ".py",
   "mimetype": "text/x-python",
   "name": "python",
   "nbconvert_exporter": "python",
   "pygments_lexer": "ipython3",
   "version": "3.11.5"
  }
 },
 "nbformat": 4,
 "nbformat_minor": 5
}
