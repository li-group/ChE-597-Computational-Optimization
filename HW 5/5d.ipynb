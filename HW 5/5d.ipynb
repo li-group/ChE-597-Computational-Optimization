{
 "cells": [
  {
   "cell_type": "markdown",
   "id": "ea2d41ba-8783-4062-9120-331d62004ae3",
   "metadata": {},
   "source": [
    "## 5:d - Primal-Dual Int Pt. - v2 ($\\lambda $ Not Eliminated)"
   ]
  },
  {
   "cell_type": "code",
   "execution_count": 97,
   "id": "5c78b93c-08c0-4f06-92be-19253373ba60",
   "metadata": {},
   "outputs": [],
   "source": [
    "# Imports\n",
    "import matplotlib.pyplot as plt\n",
    "import numpy as np\n",
    "from numpy import log\n",
    "import shutil\n",
    "import sys\n",
    "import os.path"
   ]
  },
  {
   "cell_type": "markdown",
   "id": "8787a687-1844-48dd-8148-14d92afb71c7",
   "metadata": {},
   "source": [
    "Given function:\n",
    "\\begin{aligned}\n",
    "    \\min_{x_1, x_2}\\quad & \\frac{3}{x_1 + x_2} + e^{x_1} + (x_1 - x_2 )^2 \\\\\n",
    "    \\text{s.t. }\\quad & x_1\\geq 0 \\\\\n",
    "    & x_2\\geq 0 \\\\\n",
    "    & x_{1}^2 + x_{2}^{2} \\leq 2\\\\ \n",
    "    & x_1 - x_2 \\leq 1 \n",
    "\\end{aligned}\n",
    "\n",
    "\n",
    "Barrier Function B(x): t f(x) + $\\phi$ (x)"
   ]
  },
  {
   "cell_type": "code",
   "execution_count": 98,
   "id": "4b0836c3-86aa-4aba-afaa-5285fa877afb",
   "metadata": {},
   "outputs": [],
   "source": [
    "# Defining our function\n",
    "def my_f(x):    \n",
    "    val = np.exp(x[0]) + 3/(x[0] + x[1]) + (x[0] - x[1])**2\n",
    "    return val"
   ]
  },
  {
   "cell_type": "code",
   "execution_count": 99,
   "id": "b10db2c2-577f-4054-bf59-b45ae91d1721",
   "metadata": {},
   "outputs": [],
   "source": [
    "# Defining the constraint functions\n",
    "def my_h1(x): \n",
    "    x = x.flatten()\n",
    "    val = -x[0]\n",
    "    return val\n",
    "\n",
    "def my_h2(x): \n",
    "    x = x.flatten()\n",
    "    val = -x[1]\n",
    "    return val\n",
    "\n",
    "def my_h3(x): \n",
    "    x = x.flatten()\n",
    "    val = x[0]**2 + x[1]**2 -2\n",
    "    return val\n",
    "\n",
    "def my_h4(x):  \n",
    "    x = x.flatten()\n",
    "    val = x[0] - x[1] -1\n",
    "    return val"
   ]
  },
  {
   "cell_type": "markdown",
   "id": "3fd4a1da",
   "metadata": {},
   "source": [
    "### Defining First Derivatives"
   ]
  },
  {
   "cell_type": "code",
   "execution_count": 100,
   "id": "f34c11e7-15f0-49f2-a9dc-f086d54acdf5",
   "metadata": {},
   "outputs": [],
   "source": [
    "def nablas(x):\n",
    "    #x = x.flatten()\n",
    "    h = 1e-5  # Step size\n",
    "    # Initialize an array to store the partial derivatives\n",
    "    nabla_f = np.zeros_like(x)\n",
    "    nabla_h1 = np.zeros_like(x)\n",
    "    nabla_h2 = np.zeros_like(x)\n",
    "    nabla_h3 = np.zeros_like(x)\n",
    "    nabla_h4 = np.zeros_like(x)\n",
    "    \n",
    "    # Compute the partial derivative for each dimension of x\n",
    "    for i in range(len(x)):\n",
    "        # Perturb the i-th dimension by h\n",
    "        x_plus_h = x.copy()\n",
    "        x_plus_h[i] += h\n",
    "        \n",
    "        # Compute the forward difference\n",
    "        nabla_f[i] = (my_f(x_plus_h) - my_f(x)) / h\n",
    "        nabla_f = np.reshape(nabla_f,(2,1)) \n",
    "        \n",
    "        nabla_h1[i] = (my_h1(x_plus_h) - my_h1(x)) / h\n",
    "        nabla_h1 = np.reshape(nabla_h1,(2,1))\n",
    "        \n",
    "        nabla_h2[i] = (my_h2(x_plus_h) - my_h2(x)) / h\n",
    "        nabla_h2 = np.reshape(nabla_h2,(2,1))\n",
    "        \n",
    "        nabla_h3[i] = (my_h3(x_plus_h) - my_h3(x)) / h\n",
    "        nabla_h3 = np.reshape(nabla_h3,(2,1))\n",
    "        \n",
    "        nabla_h4[i] = (my_h4(x_plus_h) - my_h4(x)) / h\n",
    "        nabla_h4 = np.reshape(nabla_h4,(2,1))\n",
    "    return nabla_f, nabla_h1, nabla_h2, nabla_h3, nabla_h4"
   ]
  },
  {
   "cell_type": "markdown",
   "id": "bef7afa4",
   "metadata": {},
   "source": [
    "### Defining Second Derivatives"
   ]
  },
  {
   "cell_type": "code",
   "execution_count": 101,
   "id": "51d19177-ac52-4f7b-a371-9d38cfa3d7e1",
   "metadata": {},
   "outputs": [],
   "source": [
    "def nablas2(x):\n",
    "    x = x.flatten()\n",
    "    h = 1e-5  # Step size\n",
    "    identity_matrix = np.eye(len(x))  # Identity matrix\n",
    "    h_matrix = h * identity_matrix\n",
    "\n",
    "    # Initialize matrices to store the second derivatives\n",
    "    second_derivative_f = np.zeros((len(x), len(x)))\n",
    "    second_derivative_h1 = np.zeros((len(x), len(x)))\n",
    "    second_derivative_h2 = np.zeros((len(x), len(x)))\n",
    "    second_derivative_h3 = np.zeros((len(x), len(x)))\n",
    "    second_derivative_h4 = np.zeros((len(x), len(x)))\n",
    "\n",
    "    for i, h_vec in enumerate(h_matrix):\n",
    "        x_plus_h = x + h_vec\n",
    "        \n",
    "        # Compute the forward differences for each function\n",
    "        nabla_f_x_plus_h, nabla_h1_x_plus_h, nabla_h2_x_plus_h, nabla_h3_x_plus_h, nabla_h4_x_plus_h = nablas(x_plus_h)\n",
    "        nabla_f_x, nabla_h1_x, nabla_h2_x, nabla_h3_x, nabla_h4_x = nablas(x)\n",
    "        \n",
    "        # Calculate the second derivative approximation for each function\n",
    "        second_derivative_f[:, i] = (nabla_f_x_plus_h.flatten() - nabla_f_x.flatten()) / h\n",
    "        second_derivative_h1[:, i] = (nabla_h1_x_plus_h.flatten() - nabla_h1_x.flatten()) / h\n",
    "        second_derivative_h2[:, i] = (nabla_h2_x_plus_h.flatten() - nabla_h2_x.flatten()) / h\n",
    "        second_derivative_h3[:, i] = (nabla_h3_x_plus_h.flatten() - nabla_h3_x.flatten()) / h\n",
    "        second_derivative_h4[:, i] = (nabla_h4_x_plus_h.flatten() - nabla_h4_x.flatten()) / h\n",
    "\n",
    "    return second_derivative_f, second_derivative_h1, second_derivative_h2, second_derivative_h3, second_derivative_h4"
   ]
  },
  {
   "cell_type": "markdown",
   "id": "e2b00269",
   "metadata": {},
   "source": [
    "### Combined Constraint Function\n",
    "\n",
    "$$ f(x) = \n",
    "\\left[\\begin{array}{ccc}\n",
    "f_1 (x) \\\\ ... \\\\\n",
    "f_4 (x)\n",
    "\\end{array}\\right]\n",
    "\\;\\; \\in \\mathbb{R}^ {4 \\times 1} $$"
   ]
  },
  {
   "cell_type": "code",
   "execution_count": 102,
   "id": "0c5a53a3-bbbb-467c-acfb-fc82a67eecd2",
   "metadata": {},
   "outputs": [],
   "source": [
    "def h_x(x):\n",
    "    x = x.flatten()\n",
    "    hx = np.zeros((4, 1))\n",
    "    hx[0] = my_h1(x) \n",
    "    hx[1] = my_h2(x)\n",
    "    hx[2] = my_h3(x)\n",
    "    hx[3] = my_h4(x)\n",
    "    return hx    "
   ]
  },
  {
   "cell_type": "markdown",
   "id": "89afae76",
   "metadata": {},
   "source": [
    "### Combined Derivative Constraint Function\n",
    "\n",
    " $$ Df(x) = \n",
    "\\left[\\begin{array}{ccc}\n",
    "\\nabla f_1 (x) ^ T \\\\ ... \\\\\n",
    "\\nabla f_4 (x) ^ T\n",
    "\\end{array}\\right]\n",
    "\\;\\; \\in \\mathbb{R}^ {4 \\times 2} $$"
   ]
  },
  {
   "cell_type": "code",
   "execution_count": 103,
   "id": "0bd30940-0e27-4347-9aa1-6295e43c6ca4",
   "metadata": {},
   "outputs": [],
   "source": [
    "def D_h_x(x):\n",
    "    x = x.flatten()\n",
    "    Dhx = np.zeros((4, 2))\n",
    "    nabla_f, nabla_h1, nabla_h2, nabla_h3, nabla_h4 = nablas(x)\n",
    "    Dhx[0, :] = nabla_h1.T\n",
    "    Dhx[1, :] = nabla_h2.T\n",
    "    Dhx[2, :] = nabla_h3.T\n",
    "    Dhx[3, :] = nabla_h4.T\n",
    "    return Dhx"
   ]
  },
  {
   "cell_type": "markdown",
   "id": "7eb3c9e5-941e-4304-892a-e078dbb6f011",
   "metadata": {},
   "source": [
    "### Making the $r_{dual}$ vector\n",
    "\n",
    "$$\n",
    "r_{\\text{dual}} = \\nabla f_0 (x) + D f(x)^T u \\; \\in \\mathbb{R}^{2 \\times 1}\n",
    "$$\n"
   ]
  },
  {
   "cell_type": "code",
   "execution_count": 104,
   "id": "4f3f0389-069c-4d7c-b11f-5e8d2c6f4fc2",
   "metadata": {},
   "outputs": [],
   "source": [
    "def r_dual(x,lamb):\n",
    "    x = x.flatten()\n",
    "    nabla_f, nabla_h1, nabla_h2, nabla_h3, nabla_h4 = nablas(x)\n",
    "    nf = nabla_f\n",
    "    nf = np.reshape(nf,(2,1))\n",
    "    rdual =  nf + np.dot( D_h_x(x).T, lamb )\n",
    "    return rdual"
   ]
  },
  {
   "cell_type": "markdown",
   "id": "3b9ee33b",
   "metadata": {},
   "source": [
    "### Making the $r_{cent}$ vector\n",
    "\n",
    "$$ r_{\\text {cent }} =-\\operatorname{diag}(u) f (x)-(1^T) t \\; \\in \\mathbb{R}^ {4 \\times 1}  $$"
   ]
  },
  {
   "cell_type": "code",
   "execution_count": 105,
   "id": "7598b539-508c-43ea-9dc9-2d44dfd0cea3",
   "metadata": {},
   "outputs": [],
   "source": [
    "def r_cent(x,lamb,t):\n",
    "    x = x.flatten()\n",
    "    diag_lamb = np.diagflat(lamb)\n",
    "    ones_arr = np.ones((4, 1))\n",
    "    rcent = - np.dot( diag_lamb, h_x(x) ) - (1/t)*ones_arr\n",
    "    return rcent"
   ]
  },
  {
   "cell_type": "markdown",
   "id": "bcb6c641",
   "metadata": {},
   "source": [
    "### Combining r\n",
    "\n",
    "$$r = \\left(\\begin{array}{c}\n",
    "r_{\\text {dual }} \\\\\n",
    "r_{\\text {cent }} \n",
    "\\end{array}\\right) \\;\\; \\in \\mathbb{R}^ {6 \\times 1}  $$"
   ]
  },
  {
   "cell_type": "code",
   "execution_count": 106,
   "id": "13f265b4-9fca-45c1-a141-07b37c0a84de",
   "metadata": {},
   "outputs": [],
   "source": [
    "def r_combined(x,lamb,t):\n",
    "    x = x.flatten()\n",
    "    rdual = r_dual(x,lamb)\n",
    "    rcent = r_cent(x,lamb,t)\n",
    "    #rcombine = np.vstack((rdual,rcent))\n",
    "    # rdual = np.reshape(rdual,(2,1))\n",
    "    # rcent = np.reshape(rcent,(4,1))\n",
    "    rcombine  = np.concatenate((rdual, rcent), axis=0)\n",
    "    return rcombine"
   ]
  },
  {
   "cell_type": "markdown",
   "id": "283b8795-47ec-466a-9757-e5188e01153d",
   "metadata": {},
   "source": [
    "### Making the r' matrix\n",
    "\n",
    "$$ r' = \\left[\\begin{array}{ccc}\n",
    "H_{\\mathrm{pd}}(x) & D f(x)^T \\\\\n",
    "-\\operatorname{diag}(u) D f(x) & -\\operatorname{diag}(f(x)) \n",
    "\\end{array}\\right] \\;\\; \\in \\mathbb{R}^ {6 \\times 6}  $$"
   ]
  },
  {
   "cell_type": "code",
   "execution_count": 107,
   "id": "bbf47f0d-138c-4968-81da-37d321033752",
   "metadata": {},
   "outputs": [],
   "source": [
    "def Hpd_x(x,lamb):\n",
    "    x = x.flatten()\n",
    "    nabla2_f, nabla2_h1, nabla2_h2, nabla2_h3, nabla2_h4 = nablas2(x)\n",
    "    exp1 = nabla2_f\n",
    "    exp2 = lamb[0]*nabla2_h1 + lamb[1]*nabla2_h2 + lamb[2]*nabla2_h3 + lamb[3]*nabla2_h4\n",
    "    exp = exp1 + exp2\n",
    "    return exp"
   ]
  },
  {
   "cell_type": "code",
   "execution_count": 108,
   "id": "6467a343-c6ed-4c71-8c2c-4da98097abc8",
   "metadata": {},
   "outputs": [],
   "source": [
    "def row1col2(x):\n",
    "    x = x.flatten()\n",
    "    v = D_h_x(x)\n",
    "    valr1c2 = v.T\n",
    "    return valr1c2"
   ]
  },
  {
   "cell_type": "code",
   "execution_count": 109,
   "id": "bd33f1b0-c1db-408e-ad18-cbe9d58fadbe",
   "metadata": {},
   "outputs": [],
   "source": [
    "def row2col1(x,lamb):\n",
    "    x = x.flatten()\n",
    "    valr2c1 = np.zeros((4, 2))\n",
    "    diag_lamb = np.diagflat(lamb)\n",
    "    Dhx = D_h_x(x)\n",
    "    valr2c1 = - np.dot( diag_lamb, Dhx )\n",
    "    return valr2c1"
   ]
  },
  {
   "cell_type": "code",
   "execution_count": 110,
   "id": "e1a7e455-9826-4ba4-9302-251d6c161b84",
   "metadata": {},
   "outputs": [],
   "source": [
    "def row2col2(x):\n",
    "    x = x.flatten()\n",
    "    hx = h_x(x)\n",
    "    v = - np.diagflat(hx)\n",
    "    return v"
   ]
  },
  {
   "cell_type": "code",
   "execution_count": 111,
   "id": "a2f4ed4d-87f1-41cd-852e-9b02868b7789",
   "metadata": {},
   "outputs": [],
   "source": [
    "def nabla_r_combined(x,lamb):\n",
    "    x = x.flatten()\n",
    "    r1c1 = Hpd_x(x,lamb)\n",
    "    r1c2 = row1col2(x)\n",
    "    r2c1 = row2col1(x,lamb)\n",
    "    r2c2 = row2col2(x)\n",
    "    r1 = np.concatenate((r1c1,r1c2),axis=1)\n",
    "    r2 = np.concatenate((r2c1,r2c2),axis=1)\n",
    "    nablar = np.concatenate((r1, r2), axis=0)\n",
    "    return nablar    "
   ]
  },
  {
   "cell_type": "markdown",
   "id": "4aaf27e5-a21a-4895-9f31-f10efd3e8da5",
   "metadata": {},
   "source": [
    "### Backtracking Line Search"
   ]
  },
  {
   "cell_type": "code",
   "execution_count": 112,
   "id": "5f0d56d8-3376-4062-8170-95e1670d16c5",
   "metadata": {},
   "outputs": [],
   "source": [
    "def Backtrack_s(y,delta_y,t):\n",
    "\n",
    "    x = y[:2]\n",
    "    x = x.flatten()\n",
    "    x = np.reshape(x,(2,1))\n",
    "    lamb = y[2:6]\n",
    "    lamb = lamb.flatten()\n",
    "    lamb = np.reshape(lamb,(4,1))\n",
    "    delta_x = delta_y[:2]\n",
    "    delta_x = np.reshape(delta_x,(2,1))\n",
    "    delta_lamb = delta_y[2:6]\n",
    "    delta_lamb = np.reshape(delta_lamb,(4,1))\n",
    "\n",
    "    max_s = 1\n",
    "    for i in range(0,4):\n",
    "        if( delta_lamb[i] < 0 ):\n",
    "            v = -lamb[i]/delta_lamb[i]\n",
    "            if( v < 1 ):\n",
    "                max_s = v\n",
    "\n",
    "    s = 0.999*max_s\n",
    "    y_new = y + s * delta_y\n",
    "    x_new = y_new[:2]\n",
    "    x_new = x.flatten()\n",
    "    x_new = np.reshape(x,(2,1))\n",
    "    lamb_new = y_new[2:6]\n",
    "    lamb = lamb.flatten()\n",
    "    lamb = np.reshape(lamb,(4,1))\n",
    "\n",
    "    while ( (my_h1(x_new) > 0) & (my_h2(x_new) > 0) & (my_h3(x_new) > 0) & (my_h4(x_new) > 0) ):\n",
    "        s = beta * s\n",
    "        x_new = x + s * delta_x\n",
    "    \n",
    "    r_old = r_combined(x,lamb,t)\n",
    "    r_norm_old = np.dot(r_old.flatten(),r_old.flatten())**0.5\n",
    "    r_new = r_combined(x_new,lamb_new,t)\n",
    "    r_norm_new = np.dot(r_new.flatten(),r_new.flatten())**0.5\n",
    "    while ( r_norm_new > (1 - alp * s) * r_norm_old ):\n",
    "        s = beta * s\n",
    "        x_new = x + s * delta_x\n",
    "        lamb_new = lamb + s * delta_lamb\n",
    "        r_new = r_combined(x_new,lamb_new,t)\n",
    "        r_norm_new = np.dot(r_new.flatten(),r_new.flatten())**0.5\n",
    "    return s"
   ]
  },
  {
   "cell_type": "markdown",
   "id": "ec58956d-bfa7-40f6-87f8-7770b7c75841",
   "metadata": {},
   "source": [
    "### Primal Dual Int Pt. Method- v2 Implementation"
   ]
  },
  {
   "cell_type": "code",
   "execution_count": 113,
   "id": "67399a66-72cd-44ad-bba5-7dd80be21b4f",
   "metadata": {},
   "outputs": [
    {
     "name": "stdout",
     "output_type": "stream",
     "text": [
      "Optimal solution: [[0.64729726]\n",
      " [1.12489091]]\n",
      "Optimal function value: [3.8312888]\n",
      "Number of iterations taken to converge: 241\n"
     ]
    }
   ],
   "source": [
    "# Initialising Lambda\n",
    "m = 4\n",
    "x_start = np.array([0.5,0.5])  # s.t. hi(x_start) < 0 \n",
    "lamb = np.ones((4, 1))         # > 0\n",
    "neta = - np.dot( h_x(x_start).T, lamb)\n",
    "mu = 1.2\n",
    "eps = 1e-5\n",
    "\n",
    "# Parameters for Back-Tracking\n",
    "alp = 0.5\n",
    "beta = 0.3\n",
    "\n",
    "iter = 0\n",
    "while True:\n",
    "\n",
    "    t = mu*m/neta\n",
    "    inv_nabla_r = np.linalg.inv(nabla_r_combined(x_start,lamb)) \n",
    "    x_start = x_start.flatten()\n",
    "    x_start = np.reshape(x_start,(2,1))\n",
    "    y = np.concatenate((x_start,lamb), axis=0)\n",
    "    y = np.reshape(y,(6,1))\n",
    "    delta_y = - np.dot( inv_nabla_r, r_combined(x_start,lamb,t).flatten() )\n",
    "    delta_y = np.reshape(delta_y,(6,1))\n",
    "    s = Backtrack_s(y,delta_y,t)\n",
    "    y = y + s * delta_y\n",
    "    x_start = y[:2]\n",
    "    lamb = y[2:6]\n",
    "    \n",
    "    neta = - np.dot( h_x(x_start).T, lamb)\n",
    "    r_dualval = r_dual(x_start,lamb)\n",
    "    norm_r_dual = np.dot(r_dualval.flatten(),r_dualval.flatten())**0.5\n",
    "    if ( (neta <= eps) & (norm_r_dual < eps) ):\n",
    "        break\n",
    "    iter += 1\n",
    "\n",
    "print(\"Optimal solution:\", x_start)\n",
    "fopt = my_f(x_start)\n",
    "print(\"Optimal function value:\", fopt)\n",
    "print(\"Number of iterations taken to converge:\", iter)"
   ]
  }
 ],
 "metadata": {
  "kernelspec": {
   "display_name": "Python 3 (ipykernel)",
   "language": "python",
   "name": "python3"
  },
  "language_info": {
   "codemirror_mode": {
    "name": "ipython",
    "version": 3
   },
   "file_extension": ".py",
   "mimetype": "text/x-python",
   "name": "python",
   "nbconvert_exporter": "python",
   "pygments_lexer": "ipython3",
   "version": "3.11.7"
  }
 },
 "nbformat": 4,
 "nbformat_minor": 5
}
