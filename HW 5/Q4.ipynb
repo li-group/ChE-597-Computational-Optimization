{
 "cells": [
  {
   "cell_type": "code",
   "execution_count": 20,
   "id": "75d7336b-af08-41cf-bce2-827cae311889",
   "metadata": {},
   "outputs": [],
   "source": [
    "# Imports\n",
    "import matplotlib.pyplot as plt\n",
    "import numpy as np\n",
    "from numpy import log\n",
    "import shutil\n",
    "import sys\n",
    "import os.path\n",
    "import pyomo.environ as pe\n",
    "import pyomo.opt as po"
   ]
  },
  {
   "cell_type": "markdown",
   "id": "c04fc29f-c76c-4f2c-ac18-ad2ee4db7087",
   "metadata": {},
   "source": [
    "Function to be optimised:\n",
    "\\begin{aligned}\n",
    "    \\min_{r, h}\\quad & 300 \\pi r h + 450 \\pi r^2  \\\\\n",
    "    \\text{s.t. }\\quad & \\pi r^2 h = 25\n",
    "\\end{aligned}"
   ]
  },
  {
   "cell_type": "code",
   "execution_count": 21,
   "id": "fa9f2aa7-f07f-4d74-8f82-401a3563441d",
   "metadata": {},
   "outputs": [
    {
     "name": "stdout",
     "output_type": "stream",
     "text": [
      "The optimal values are r = 1.3842768640254777 and h = 4.152830592078356\n",
      "Objective (Minimum Cost) = 8126.986943409036\n"
     ]
    }
   ],
   "source": [
    "# Create a Concrete Model\n",
    "model = pe.ConcreteModel()\n",
    "\n",
    "# Define variables with lower bounds (since r and h can't be negative)\n",
    "model.r = pe.Var(domain=pe.NonNegativeReals)\n",
    "model.h = pe.Var(domain=pe.NonNegativeReals)\n",
    "\n",
    "# Objective function to be minimized\n",
    "model.cost = pe.Objective(sense=pe.minimize, expr=300 * np.pi * model.r * model.h + 450 * np.pi * model.r**2)\n",
    "\n",
    "# Constraint\n",
    "model.volume = pe.Constraint(expr=np.pi * model.r**2 * model.h == 25)\n",
    "\n",
    "# Using the IPOPT solver\n",
    "solver = po.SolverFactory('ipopt')\n",
    "\n",
    "# Solve the model\n",
    "results = solver.solve(model, tee=False)\n",
    "\n",
    "# Print the results\n",
    "r_value = pe.value(model.r)\n",
    "h_value = pe.value(model.h)\n",
    "print(f\"The optimal values are r = {r_value} and h = {h_value}\")\n",
    "print(f\"Objective (Minimum Cost) = {pe.value(model.cost)}\")\n"
   ]
  }
 ],
 "metadata": {
  "kernelspec": {
   "display_name": "Python 3 (ipykernel)",
   "language": "python",
   "name": "python3"
  },
  "language_info": {
   "codemirror_mode": {
    "name": "ipython",
    "version": 3
   },
   "file_extension": ".py",
   "mimetype": "text/x-python",
   "name": "python",
   "nbconvert_exporter": "python",
   "pygments_lexer": "ipython3",
   "version": "3.11.7"
  }
 },
 "nbformat": 4,
 "nbformat_minor": 5
}
