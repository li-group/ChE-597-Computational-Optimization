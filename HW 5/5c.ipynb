{
 "cells": [
  {
   "cell_type": "markdown",
   "id": "b5397b61-410d-483b-bbb6-b1b281b046a1",
   "metadata": {},
   "source": [
    "## 5:c - Primal-Dual Int Pt. - v1 (Eliminating $\\lambda $)"
   ]
  },
  {
   "cell_type": "code",
   "execution_count": 213,
   "id": "a044dcc9-1a84-4fcb-924e-21f7958e459b",
   "metadata": {},
   "outputs": [],
   "source": [
    "# Imports\n",
    "import matplotlib.pyplot as plt\n",
    "import numpy as np\n",
    "from numpy import log\n",
    "import shutil\n",
    "import sys\n",
    "import os.path"
   ]
  },
  {
   "cell_type": "markdown",
   "id": "2bd11216-8952-4083-94a2-66a175d36a03",
   "metadata": {},
   "source": [
    "Given function:\n",
    "\\begin{aligned}\n",
    "    \\min_{x_1, x_2}\\quad & \\frac{3}{x_1 + x_2} + e^{x_1} + (x_1 - x_2 )^2 \\\\\n",
    "    \\text{s.t. }\\quad & x_1\\geq 0 \\\\\n",
    "    & x_2\\geq 0 \\\\\n",
    "    & x_{1}^2 + x_{2}^{2} \\leq 2\\\\ \n",
    "    & x_1 - x_2 \\leq 1 \n",
    "\\end{aligned}\n",
    "\n",
    "\n",
    "Barrier Function B(x): t f(x) + $\\phi$ (x)"
   ]
  },
  {
   "cell_type": "code",
   "execution_count": 214,
   "id": "42d15624-149e-40f5-a7d3-44048fd67634",
   "metadata": {},
   "outputs": [],
   "source": [
    "# Defining our function\n",
    "def my_f(x):    \n",
    "    val = np.exp(x[0]) + 3/(x[0] + x[1]) + (x[0] - x[1])**2\n",
    "    return val"
   ]
  },
  {
   "cell_type": "code",
   "execution_count": 215,
   "id": "0b1e4cec-7c89-474c-b984-12c049dac4ab",
   "metadata": {},
   "outputs": [],
   "source": [
    "# Defining the constraint functions\n",
    "def my_h1(x):    \n",
    "    val = -x[0]\n",
    "    return val\n",
    "\n",
    "def my_h2(x):    \n",
    "    val = -x[1]\n",
    "    return val\n",
    "\n",
    "def my_h3(x):    \n",
    "    val = x[0]**2 + x[1]**2 -2\n",
    "    return val\n",
    "\n",
    "def my_h4(x):    \n",
    "    val = x[0] - x[1] -1\n",
    "    return val"
   ]
  },
  {
   "cell_type": "markdown",
   "id": "c55de457",
   "metadata": {},
   "source": [
    "### Defining g Function:\n",
    "\n",
    "$ g(x,y) = f_0 (x) - \\sum_{i=1}^{4} \\frac{f_i (x)}{t f_i (y)} $ "
   ]
  },
  {
   "cell_type": "code",
   "execution_count": 216,
   "id": "53a8214f-e2e2-4844-b6c4-fb3a551bc621",
   "metadata": {},
   "outputs": [],
   "source": [
    "# Defining raw function g s.t. Nabla g = r\n",
    "\n",
    "def g(x,y,t):\n",
    "    v = my_f(x) + (-1/t)*(1/my_h1(y)) * my_h1(x) + (-1/t)*(1/my_h2(y)) * my_h2(x) + (-1/t)*(1/my_h3(y)) * my_h3(x) + (-1/t)*(1/my_h4(y)) * my_h4(x)\n",
    "    return v"
   ]
  },
  {
   "cell_type": "markdown",
   "id": "59a37ecc",
   "metadata": {},
   "source": [
    "$ \\nabla g_x (x,x) = r(x) $"
   ]
  },
  {
   "cell_type": "code",
   "execution_count": 217,
   "id": "603647a2-87f3-415a-b7ba-a287c9457ee0",
   "metadata": {},
   "outputs": [],
   "source": [
    "# Defining r function\n",
    "def nabla_gx(x,y,t):\n",
    "    x = x.flatten()\n",
    "    y = y.flatten()\n",
    "    #y = x\n",
    "    h = 1e-5  # Step size\n",
    "    # Initialize an array to store the partial derivatives\n",
    "    grad = np.zeros_like(x)\n",
    "    \n",
    "    # Compute the partial derivative for each dimension of x\n",
    "    for i in range(len(x)):\n",
    "        # Perturb the i-th dimension by h\n",
    "        x_plus_h = x.copy()\n",
    "        x_plus_h[i] += h\n",
    "        \n",
    "        # Compute the forward difference\n",
    "        grad[i] = (g(x_plus_h,y,t) - g(x,y,t)) / h\n",
    "    return grad"
   ]
  },
  {
   "cell_type": "code",
   "execution_count": 218,
   "id": "e72227ee-38a1-40ca-8d7d-6f2c7eaf5452",
   "metadata": {},
   "outputs": [],
   "source": [
    "def r(x,t):\n",
    "    y = x\n",
    "    v = nabla_gx(x,y,t)\n",
    "    return v"
   ]
  },
  {
   "cell_type": "markdown",
   "id": "12183413",
   "metadata": {},
   "source": [
    "$ \\nabla^2 g_{xx} (x,x) = r' (x) - \\sum_{i=1}^m \\frac{1}{t f_i(x)^2} \\nabla f_i(x) \\nabla f_i(x)^T$"
   ]
  },
  {
   "cell_type": "code",
   "execution_count": 219,
   "id": "e4d4e1cd-99be-473a-8dd4-00af775a1868",
   "metadata": {},
   "outputs": [],
   "source": [
    "def nabla2_gx(x,y,t):\n",
    "    x = x.flatten()\n",
    "    y = y.flatten()\n",
    "    h = 1e-5  # Step size\n",
    "\n",
    "    identity_matrix = np.eye(len(x))  # Identity matrix\n",
    "    # Construct the perturbation matrix with h values along the diagonal\n",
    "    h_matrix = h * identity_matrix\n",
    "\n",
    "    # w.r.t. x\n",
    "    # Calculate the forward differences for all components simultaneously\n",
    "    x_perturbed_values = np.array([nabla_gx(x + h_vec,y,t) for h_vec in h_matrix])\n",
    "\n",
    "    # Calculate the second derivative approximation\n",
    "    nabla2_g_x = (x_perturbed_values - nabla_gx(x,y,t)) / h\n",
    "    reshaped_nabla2_gx  = np.reshape(nabla2_g_x, (2, 2))\n",
    "\n",
    "    v = reshaped_nabla2_gx  \n",
    "    return v"
   ]
  },
  {
   "cell_type": "markdown",
   "id": "170d7209",
   "metadata": {},
   "source": [
    "### Defining\n",
    "\n",
    "$\\sum_{i=1}^m \\frac{1}{t f_i(x)^2} \\nabla f_i(x) \\nabla f_i(x)^T$"
   ]
  },
  {
   "cell_type": "code",
   "execution_count": 220,
   "id": "2ceb935a-3637-4868-a21d-b2f8e0637a54",
   "metadata": {},
   "outputs": [],
   "source": [
    "def nabla_h(x):\n",
    "    x = x.flatten()\n",
    "    h = 1e-5  # Step size\n",
    "    # Initialize an array to store the partial derivatives\n",
    "    grad1 = np.zeros_like(x)\n",
    "    grad2 = np.zeros_like(x)\n",
    "    grad3 = np.zeros_like(x)\n",
    "    grad4 = np.zeros_like(x)\n",
    "    \n",
    "    # Compute the partial derivative for each dimension of x\n",
    "    for i in range(len(x)):\n",
    "        # Perturb the i-th dimension by h\n",
    "        x_plus_h = x.copy()\n",
    "        x_plus_h[i] += h\n",
    "        \n",
    "        # Compute the forward difference\n",
    "        grad1[i] = (my_h1(x_plus_h) - my_h1(x)) / h\n",
    "        grad2[i] = (my_h2(x_plus_h) - my_h2(x)) / h\n",
    "        grad3[i] = (my_h3(x_plus_h) - my_h3(x)) / h\n",
    "        grad4[i] = (my_h4(x_plus_h) - my_h4(x)) / h\n",
    "        grad1 = np.reshape(grad1, (2,1))\n",
    "        grad2 = np.reshape(grad2, (2,1))\n",
    "        grad3 = np.reshape(grad3, (2,1))\n",
    "        grad4 = np.reshape(grad4, (2,1))\n",
    "    return grad1, grad2, grad3, grad4\n",
    "\n",
    "def d_nabla_gx_dy(x,y,t):\n",
    "    grad1x, grad2x, grad3x, grad4x = nabla_h(x)\n",
    "    grad1y, grad2y, grad3y, grad4y = nabla_h(y)\n",
    "    v = (1/t)*(my_h1(y)**2)*np.dot(grad1x,grad1y.T) + (1/t)*(my_h2(y)**2)*np.dot(grad2x,grad2y.T) + (1/t)*(my_h2(y)**2)*np.dot(grad2x,grad2y.T) + (1/t)*(my_h4(y)**2)*np.dot(grad4x,grad4y.T)\n",
    "    return v"
   ]
  },
  {
   "cell_type": "markdown",
   "id": "caedbb7f",
   "metadata": {},
   "source": [
    "$ r' (x) = \\nabla^2 g_{xx} (x,x) + \\sum_{i=1}^m \\frac{1}{t f_i(x)^2} \\nabla f_i(x) \\nabla f_i(x)^T$"
   ]
  },
  {
   "cell_type": "code",
   "execution_count": 221,
   "id": "b314eca5-f96b-438d-8c24-76eedc5786e6",
   "metadata": {},
   "outputs": [],
   "source": [
    "def nabla_r(x,t):\n",
    "    y = x\n",
    "    v = nabla2_gx(x,y,t) + d_nabla_gx_dy(x,y,t)\n",
    "    return v"
   ]
  },
  {
   "cell_type": "code",
   "execution_count": 222,
   "id": "6fa4a9af-dede-4fd6-8361-01feea503dcb",
   "metadata": {},
   "outputs": [],
   "source": [
    "# Initialising Parameters\n",
    "x_start = np.array([0.5,0.5])\n",
    "mu = 1.2\n",
    "m = 4\n",
    "t = 1\n",
    "eps = 1e-5\n",
    "\n",
    "# Parameter for Backtracking\n",
    "alpa = 0.5\n",
    "beta = 0.3"
   ]
  },
  {
   "cell_type": "markdown",
   "id": "5fb3ab9e-501a-44bb-a6ea-22f907a303fc",
   "metadata": {},
   "source": [
    "### Backtracking Line Search"
   ]
  },
  {
   "cell_type": "code",
   "execution_count": 223,
   "id": "57985db9-20ee-482f-8a48-bfc7bb75f59b",
   "metadata": {},
   "outputs": [],
   "source": [
    "def Backtrack_s(x_start,delta_x,t):\n",
    "    s = 0.999\n",
    "\n",
    "    x_new = x_start + s * delta_x\n",
    "    while ( (my_h1(x_new) > 0) & (my_h2(x_new) > 0) & (my_h3(x_new) > 0) & (my_h4(x_new) > 0) ):\n",
    "        s = beta * s\n",
    "        x_new = x_start + s * delta_x\n",
    "\n",
    "    r_old = r(x_start,t)\n",
    "    r_norm_old = np.dot(r_old.flatten(),r_old.flatten())**0.5\n",
    "    r_new = r(x_new,t)\n",
    "    r_norm_new = np.dot(r_new.flatten(),r_new.flatten())**0.5\n",
    "    while ( r_norm_new > (1 - alpa * s) * r_norm_old ):\n",
    "        s = beta * s\n",
    "        x_new = x_start + s * delta_x\n",
    "        r_new = r(x_new,t)\n",
    "        r_norm_new = np.dot(r_new.flatten(),r_new.flatten())**0.5\n",
    "    \n",
    "    return s    "
   ]
  },
  {
   "cell_type": "markdown",
   "id": "0fec2e7a-dae5-4bf3-a724-03b04601f88c",
   "metadata": {},
   "source": [
    "### Primal Dual Int Pt. Method- v1 Implementation"
   ]
  },
  {
   "cell_type": "code",
   "execution_count": 224,
   "id": "3472f7b5-f82f-4031-b0ab-4d10152c074e",
   "metadata": {},
   "outputs": [
    {
     "name": "stdout",
     "output_type": "stream",
     "text": [
      "Optimal solution: [0.64672118 1.12371685]\n",
      "Optimal function value: 3.8312911796211995\n",
      "Number of iterations taken to converge: 41\n"
     ]
    }
   ],
   "source": [
    "iter = 0\n",
    "while True:\n",
    "    inv_nabla_r = np.linalg.inv(nabla_r(x_start,t)) \n",
    "    delta_x = - np.dot(inv_nabla_r,r(x_start,t).flatten()) \n",
    "\n",
    "    s = Backtrack_s(x_start,delta_x,t)  \n",
    "    x_start = x_start + s * delta_x\n",
    "    r_dual = r(x_start,t)\n",
    "    norm_r_dual = np.dot(r_dual.flatten(),r_dual.flatten())**0.5\n",
    "\n",
    "    if (norm_r_dual < eps):\n",
    "        break\n",
    "    t = t*mu\n",
    "    iter += 1\n",
    "\n",
    "print(\"Optimal solution:\", x_start)\n",
    "fopt = my_f(x_start)\n",
    "print(\"Optimal function value:\", fopt)\n",
    "print(\"Number of iterations taken to converge:\", iter)"
   ]
  }
 ],
 "metadata": {
  "kernelspec": {
   "display_name": "Python 3 (ipykernel)",
   "language": "python",
   "name": "python3"
  },
  "language_info": {
   "codemirror_mode": {
    "name": "ipython",
    "version": 3
   },
   "file_extension": ".py",
   "mimetype": "text/x-python",
   "name": "python",
   "nbconvert_exporter": "python",
   "pygments_lexer": "ipython3",
   "version": "3.11.7"
  }
 },
 "nbformat": 4,
 "nbformat_minor": 5
}
