{
 "cells": [
  {
   "cell_type": "markdown",
   "id": "f0bca686-63d6-421e-b575-cb7fa495d3f1",
   "metadata": {},
   "source": [
    "## 5:b - Barrier Algorithm\n",
    "\n",
    "The Keyboard Shortcut for Changing a Code Cell to a Markdown Cell\n",
    "Click on the code cell that you want to convert to a markdown cell.\n",
    "Press the Esc key to enter command mode.\n",
    "Press the M key to convert the cell to a markdown cell."
   ]
  },
  {
   "cell_type": "code",
   "execution_count": 732,
   "id": "b20f8564-347e-44af-b226-f868a04b8faf",
   "metadata": {},
   "outputs": [],
   "source": [
    "# Imports\n",
    "import matplotlib.pyplot as plt\n",
    "import numpy as np\n",
    "from numpy import log\n",
    "import shutil\n",
    "import sys\n",
    "import os.path"
   ]
  },
  {
   "cell_type": "markdown",
   "id": "b32e4178-9c8f-490b-ac9a-c7e5de701528",
   "metadata": {},
   "source": [
    "Given function:\n",
    "\\begin{aligned}\n",
    "    \\min_{x_1, x_2}\\quad & \\frac{3}{x_1 + x_2} + e^{x_1} + (x_1 - x_2 )^2 \\\\\n",
    "    \\text{s.t. }\\quad & x_1\\geq 0 \\\\\n",
    "    & x_2\\geq 0 \\\\\n",
    "    & x_{1}^2 + x_{2}^{2} \\leq 2\\\\ \n",
    "    & x_1 - x_2 \\leq 1 \n",
    "\\end{aligned}\n",
    "\n",
    "\n",
    "Barrier Function B(x) : t f(x) + $\\phi$ (x)\n"
   ]
  },
  {
   "cell_type": "code",
   "execution_count": 733,
   "id": "2939557d-5029-4098-ab29-f288b1b227e0",
   "metadata": {},
   "outputs": [],
   "source": [
    "# Defining our function\n",
    "def my_f(x):    \n",
    "    val = np.exp(x[0]) + 3/(x[0] + x[1]) + (x[0] - x[1])**2\n",
    "    return val"
   ]
  },
  {
   "cell_type": "code",
   "execution_count": 734,
   "id": "3b8f224d-8d7d-4769-923a-05ae410c9241",
   "metadata": {},
   "outputs": [],
   "source": [
    "x_start = np.array([0.5,0.5])"
   ]
  },
  {
   "cell_type": "code",
   "execution_count": 735,
   "id": "b66bfaa6-94a7-43ab-a656-dd389d1a7231",
   "metadata": {},
   "outputs": [],
   "source": [
    "# Defining Barrier function\n",
    "def my_b(x,t):\n",
    "    val = t*my_f(x) - np.log(x[0]) - np.log(x[1]) - np.log( -x[0]**2 - x[1]**2 + 2) - np.log( -x[0] + x[1] + 1)\n",
    "    return val"
   ]
  },
  {
   "cell_type": "markdown",
   "id": "edc08540-7fd9-4674-963a-a77d328803be",
   "metadata": {},
   "source": [
    "Defining the first Derivative using Forward Difference."
   ]
  },
  {
   "cell_type": "code",
   "execution_count": 736,
   "id": "1fc72610-6ded-4736-a9d1-3bbc29f4c775",
   "metadata": {},
   "outputs": [],
   "source": [
    "def nabla_b(x, t):\n",
    "    x = x.flatten()\n",
    "    h = 1e-5  # Step size\n",
    "    # Initialize an array to store the partial derivatives\n",
    "    grad = np.zeros_like(x)\n",
    "    \n",
    "    # Compute the partial derivative for each dimension of x\n",
    "    for i in range(len(x)):\n",
    "        # Perturb the i-th dimension by h\n",
    "        x_plus_h = x.copy()\n",
    "        x_plus_h[i] += h\n",
    "        \n",
    "        # Compute the forward difference\n",
    "        grad[i] = (my_b(x_plus_h, t) - my_b(x, t)) / h\n",
    "    \n",
    "    return grad"
   ]
  },
  {
   "cell_type": "markdown",
   "id": "0812b93f-016b-4b85-a49f-19c06e0794fd",
   "metadata": {},
   "source": [
    "Defining the Second Derivative for Barrier Function:\n",
    "\n",
    "The gradient vector, denoted as $\\nabla B$, is the vector of partial derivatives:\n",
    "$\n",
    "\\nabla B(x) = \\left(\\frac{\\partial B}{\\partial x_1}, \\frac{\\partial B}{\\partial x_2}, \\ldots, \\frac{\\partial B}{\\partial x_n}\\right)\n",
    "$\n",
    "\n",
    "The finite difference approximation for the gradient at a point $x$ is given by:\n",
    "$\n",
    "\\nabla B(x) \\approx \\frac{B(x + h\\mathbf{i}) - B(x)}{h}\n",
    "$\n",
    "where $\\mathbf{i}$ is a unit vector along one of the coordinate axes.\n",
    "\n",
    "The second derivative matrix is then approximated as:\n",
    "$\n",
    "\\nabla^2 B(x) \\approx \\frac{1}{h} \\left(\\nabla B(x + h\\mathbf{i}) - \\nabla B(x)\\right)\n",
    "$\n",
    "\n",
    "The reshaped second derivative matrix is a $3 \\times 3$ matrix obtained from the flattened vector."
   ]
  },
  {
   "cell_type": "code",
   "execution_count": 738,
   "id": "2b162110-b744-4835-9fe2-7ad12f3a3d46",
   "metadata": {},
   "outputs": [],
   "source": [
    "# Defing second derivative of the function\n",
    "def nabla2_b(x):\n",
    "    x = x.flatten()\n",
    "    h = 1e-5  # Step size\n",
    "    identity_matrix = np.eye(len(x))  # Identity matrix\n",
    "\n",
    "    # Construct the perturbation matrix with h values along the diagonal\n",
    "    h_matrix = h * identity_matrix\n",
    "\n",
    "    # Calculate the forward differences for all components simultaneously\n",
    "    perturbed_values = np.array([nabla_b(x + h_vec,t) for h_vec in h_matrix])\n",
    "\n",
    "    # Calculate the second derivative approximation\n",
    "    second_derivative_matrix = (perturbed_values - nabla_b(x,t)) / h\n",
    "    \n",
    "    reshaped_second_derivative_matrix = np.reshape(second_derivative_matrix, (2, 2))\n",
    "    \n",
    "    return reshaped_second_derivative_matrix "
   ]
  },
  {
   "cell_type": "code",
   "execution_count": 740,
   "id": "2792129a-02d7-460e-a7a2-35d4ea63ed93",
   "metadata": {},
   "outputs": [],
   "source": [
    "# Initialising Barrier Parameters\n",
    "m = 4\n",
    "t = 1\n",
    "mu = 4\n",
    "eps = 1e-4"
   ]
  },
  {
   "cell_type": "code",
   "execution_count": 741,
   "id": "b17a3f0b-0487-4e2e-8dc2-bb7f26fa98bd",
   "metadata": {},
   "outputs": [],
   "source": [
    "x_start = np.array([0.5,0.5])  # A feasible point"
   ]
  },
  {
   "cell_type": "code",
   "execution_count": 746,
   "id": "fb0200de-fb27-491c-8bcf-7612070f7a60",
   "metadata": {},
   "outputs": [],
   "source": [
    "# Initialising Newton Parameters\n",
    "alp = 0.2\n",
    "beta = 0.5\n",
    "newton_eps = 10**(-5)"
   ]
  },
  {
   "cell_type": "markdown",
   "id": "987d6463-7577-4b11-bebf-59011ee37c4f",
   "metadata": {},
   "source": [
    "### Backtracking algorithm:\n",
    "\n",
    "$\n",
    "\\text{Given a descent direction } \\Delta x = -\\nabla^2 B(x)^{-1} \\nabla B(x) \\text{ for } B \\text{ at } x \\in \\textbf{dom} B, \\alpha \\in (0, 0.5), \\beta \\in (0, 1).$\n",
    "\n",
    "\\begin{array}{l}\n",
    "\\text{Set } s := 1. \\\\ \n",
    "\\text{Ensure domain:} \\; \\text{While} \\; x + s\\Delta x \\notin \\textbf{dom} B, \\text{ set } s := \\beta s \\\\\n",
    "\\text{While } B(x + s\\Delta x) > B(x) + \\alpha s \\nabla B(x)^T \\Delta x, \\text{ set } s := \\beta s.\n",
    "\\end{array}\n"
   ]
  },
  {
   "cell_type": "code",
   "execution_count": 743,
   "id": "965d9a8a-def6-442f-abdb-55157ed98242",
   "metadata": {},
   "outputs": [],
   "source": [
    "# Backtracking Algorithm\n",
    "def Backtrack_s(x,t,direction,decrement):\n",
    "    s = 1\n",
    "    xv = x + s * direction\n",
    "    le = my_b(xv,t)                                              # Left expression\n",
    "    re1 = my_b(x,t)            \n",
    "    re2 = - decrement \n",
    "    re = re1 + alp * s * re2                                     # Right expression\n",
    "    while le > re:\n",
    "        s *= beta       \n",
    "        xv = x + s * direction\n",
    "        le = my_b(xv,t)\n",
    "        re = re1 + alp * s * re2\n",
    "    return s   "
   ]
  },
  {
   "cell_type": "markdown",
   "id": "c727fa41-a51f-45ad-b948-6e7fe018069c",
   "metadata": {},
   "source": [
    "### Newton's Algorithm\n",
    "\n",
    "**Input:** (defined earlier)\n",
    "- Starting point $x \\in \\text{dom} \\, B$\n",
    "- Tolerance $\\varepsilon > 0$\n",
    "\n",
    "**Repeat:**\n",
    "1. Compute the Newton step and decrement.\n",
    "   $\n",
    "   \\Delta x_{nt} := -\\nabla^2 B(x)^{-1}\\nabla B(x); \\quad \\lambda^2 := \\nabla B(x)^T \\nabla^2 B(x)^{-1}\\nabla f(x)\n",
    "   $\n",
    "2. Stopping criterion. $\\textbf{quit}$ if $\\lambda^2/2 \\leq \\varepsilon.$\n",
    "3. Line search. Choose step size $t$ by backtracking line search.\n",
    "4. Update. $x := x + t\\Delta x_{nt}$.\n",
    "\n",
    "Note: we have different $t's$ for Newton and Barrier, as such, they have different meanings and only same notation."
   ]
  },
  {
   "cell_type": "code",
   "execution_count": 1,
   "id": "53c99b22-ebe8-4025-a98f-6aba9f634509",
   "metadata": {},
   "outputs": [],
   "source": [
    "def barr_newton(x_start,t): \n",
    "    while True:\n",
    "    \n",
    "        invdel2_b = np.linalg.inv(nabla2_b(x_start))            # invdel2_f.shape = (2, 2), type = numpy.ndarray\n",
    "        #print(invdel2_b)\n",
    "        del_b = nabla_b(x_start,t).flatten()\n",
    "        direction = - np.dot(invdel2_b,del_b.flatten())         # Newton Step\n",
    "        decrement = - np.dot(del_b.T,direction.flatten())       # lambda^2 condition\n",
    "        \n",
    "        if (decrement /2 <= newton_eps):\n",
    "            break\n",
    "        \n",
    "        s = Backtrack_s(x_start,t, direction,decrement)                 # Choosing t using Line Search\n",
    "            \n",
    "        x_start = x_start + s * direction                            # Update Step\n",
    "        \n",
    "        return x_start    "
   ]
  },
  {
   "cell_type": "markdown",
   "id": "ad4a3811-e135-4f61-8a98-c14bd5b74281",
   "metadata": {},
   "source": [
    "### Barrier's Algorithm\n",
    "\n",
    "The barrier algorithm is implemented as:\n",
    "\n",
    "1. We fix $t^{(0)} = 1, \\mu = 1.2$. We use Newton's method to compute $x^{(0)}=x^{\\star}(t)$, the solution to the barrier problem at $t=t^{(0)}$.\n",
    "2. For $k=1,2,3, \\ldots$, solve the barrier problem at $t=t^{(k)}$, using Newton's method initialized at $x^{(k-1)}$, to yield $x^{(k)}=x^{\\star}(t)$.\n",
    "3. Stop if $\\frac{m}{t} \\leq \\epsilon = 10^{-4}$, else update $t^{(k+1)}=\\mu t$."
   ]
  },
  {
   "cell_type": "code",
   "execution_count": 745,
   "id": "7a7e23bf-d179-4f2d-a108-2deeeb8aafc9",
   "metadata": {},
   "outputs": [
    {
     "name": "stdout",
     "output_type": "stream",
     "text": [
      "[0.52825712 0.85431897]\n",
      "[0.58631145 1.00980747]\n",
      "[0.61775042 1.06535454]\n",
      "[0.63548746 1.10113838]\n",
      "[0.643572   1.11736115]\n",
      "[0.6462998  1.12286526]\n",
      "[0.64704657 1.12438063]\n",
      "[0.64723632 1.12476677]\n",
      "[0.64728388 1.12486366]\n",
      "Optimal solution: [0.64728388 1.12486366]\n",
      "Optimal function value: 3.8312888024671037\n",
      "Number of Newton iterations taken to converge: 8\n"
     ]
    }
   ],
   "source": [
    "# Optimising the barrier problem at each t\n",
    "iter =0 \n",
    "while True:\n",
    "    x_start = barr_newton(x_start,t)\n",
    "    print(x_start)\n",
    "    #print(x_start)\n",
    "    if (m/t <= eps):\n",
    "        break\n",
    "    t = mu*t\n",
    "    iter=iter+1\n",
    "\n",
    "print(\"Optimal solution:\", x_start)\n",
    "fopt = my_f(x_start)\n",
    "print(\"Optimal function value:\", fopt)\n",
    "print(\"Number of Newton iterations taken to converge:\", iter)"
   ]
  },
  {
   "cell_type": "markdown",
   "id": "042e863f-a5e4-4e60-bd06-a41d345bd5cc",
   "metadata": {},
   "source": [
    "______\n",
    "Plotting the Variable Path in Feasible Region"
   ]
  },
  {
   "cell_type": "code",
   "execution_count": 1,
   "id": "554b2527-b261-4c6e-84bd-a5bdc2306844",
   "metadata": {},
   "outputs": [
    {
     "data": {
      "image/png": "[encoded data removed]",
      "text/plain": [
       "<Figure size 800x600 with 2 Axes>"
      ]
     },
     "metadata": {},
     "output_type": "display_data"
    }
   ],
   "source": [
    "import numpy as np\n",
    "import matplotlib.pyplot as plt\n",
    "\n",
    "# Generate x1 and x2 values\n",
    "x1 = np.linspace(0, np.sqrt(2), 1000)\n",
    "x2 = np.linspace(0, np.sqrt(2), 1000)\n",
    "x1, x2 = np.meshgrid(x1, x2)\n",
    "\n",
    "# Define the inequalities\n",
    "inequality1 = x1 >= 0\n",
    "inequality2 = x2 >= 0\n",
    "inequality3 = x1 ** 2 + x2 ** 2 <= 2\n",
    "inequality4 = x1 - x2 <= 1\n",
    "\n",
    "# Combine the inequalities to define the feasible region\n",
    "feasible_region = np.logical_and.reduce((inequality1, inequality2, inequality3, inequality4))\n",
    "\n",
    "# Plot the feasible region\n",
    "plt.figure(figsize=(8, 6))\n",
    "plt.contourf(x1, x2, feasible_region, cmap='coolwarm', alpha=0.5)\n",
    "\n",
    "# Add labels and title\n",
    "plt.xlabel('x1')\n",
    "plt.ylabel('x2')\n",
    "plt.title('Path of Variables in Feasible Region')\n",
    "\n",
    "\n",
    "\n",
    "points = np.array([\n",
    "    [0.52825712, 0.85431897],\n",
    "    [0.58631145, 1.00980747],\n",
    "    [0.61775042, 1.06535454],\n",
    "    [0.63548746, 1.10113838],\n",
    "    [0.643572, 1.11736115],\n",
    "    [0.6462998, 1.12286526],\n",
    "    [0.64704657, 1.12438063],\n",
    "    [0.64723632, 1.12476677],\n",
    "    [0.64728388, 1.12486366]\n",
    "    ])\n",
    "x = points[:, 0]\n",
    "y = points[:, 1]\n",
    "\n",
    "# Create the line plot\n",
    "plt.plot(x, y, marker='o', color='b', linestyle='-')\n",
    "    \n",
    "\n",
    "# Show the plot\n",
    "plt.grid(True)\n",
    "cbar = plt.colorbar(ticks=[0, 1])\n",
    "cbar.set_ticklabels(['Infeasible', 'Feasible'])  # Set tick label\n",
    "plt.axis('equal')\n",
    "plt.show()"
   ]
  }
 ],
 "metadata": {
  "kernelspec": {
   "display_name": "Python 3 (ipykernel)",
   "language": "python",
   "name": "python3"
  },
  "language_info": {
   "codemirror_mode": {
    "name": "ipython",
    "version": 3
   },
   "file_extension": ".py",
   "mimetype": "text/x-python",
   "name": "python",
   "nbconvert_exporter": "python",
   "pygments_lexer": "ipython3",
   "version": "3.11.7"
  }
 },
 "nbformat": 4,
 "nbformat_minor": 5
}
