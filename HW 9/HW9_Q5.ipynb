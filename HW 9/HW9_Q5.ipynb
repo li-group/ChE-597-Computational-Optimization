{
 "cells": [
  {
   "cell_type": "code",
   "execution_count": 1,
   "id": "253a6d17",
   "metadata": {},
   "outputs": [],
   "source": [
    "from pyomo.environ import *\n",
    "def func_lp_bounds(variable,ub_yes):\n",
    "# Create a concrete model\n",
    "    model = ConcreteModel()\n",
    "    \n",
    "    # Define the variables\n",
    "    model.s = Set(initialize=range(1,5))\n",
    "    lb =  {1:0,2:-1,3:0,4:-1}\n",
    "    ub =  {1:4,2:2,3:3,4:1}\n",
    "    def _bounds_rule(m,i):\n",
    "        return (lb[i], ub[i])\n",
    "    model.x = Var(model.s,bounds=_bounds_rule)\n",
    "    \n",
    "    # Define the objective function\n",
    "    if(ub_yes==1):\n",
    "        #print(\"Yes\")\n",
    "        model.obj = Objective(expr = model.x[variable], sense=maximize)\n",
    "    else:\n",
    "        model.obj = Objective(expr = model.x[variable], sense=minimize)\n",
    "    \n",
    "    # Define the constraints\n",
    "    model.constraint1 = Constraint(expr = 2*model.x[1]+model.x[2]- model.x[3] -2*model.x[4] ==1)\n",
    "    model.constraint2 = Constraint(expr = 3*model.x[2] + model.x[4] == 5)\n",
    "    \n",
    "    # Solve the optimization problem\n",
    "    solver = SolverFactory('gurobi')  # Use GLPK solver\n",
    "    solver.solve(model)\n",
    "    #model.pprint()\n",
    "    if(ub_yes==1):\n",
    "        return model.x[variable]()\n",
    "    return model.x[variable]()\n",
    "    # Print the results\n",
    "    \n",
    "\n",
    "   "
   ]
  },
  {
   "cell_type": "code",
   "execution_count": 2,
   "id": "13b48e79",
   "metadata": {},
   "outputs": [
    {
     "name": "stdout",
     "output_type": "stream",
     "text": [
      "         LB        UB\n",
      "1       0.0  2.333333\n",
      "2  1.333333       2.0\n",
      "3       0.0       3.0\n",
      "4      -1.0       1.0\n"
     ]
    }
   ],
   "source": [
    "import pandas as pd\n",
    "\n",
    "# Define column names\n",
    "#columns = [1, 2, 3]\n",
    "\n",
    "# Create an empty DataFrame\n",
    "df_bounds = pd.DataFrame(columns=['LB','UB'], index=range(1,5))\n",
    "\n",
    "for i in range(1,5):\n",
    "    df_bounds.at[i,'UB'] = func_lp_bounds(i,1)\n",
    "    df_bounds.at[i,'LB'] = func_lp_bounds(i,0)\n",
    "    \n",
    "print(df_bounds)\n"
   ]
  },
  {
   "cell_type": "code",
   "execution_count": null,
   "id": "8afb51ec",
   "metadata": {},
   "outputs": [],
   "source": []
  }
 ],
 "metadata": {
  "kernelspec": {
   "display_name": "Python 3 (ipykernel)",
   "language": "python",
   "name": "python3"
  },
  "language_info": {
   "codemirror_mode": {
    "name": "ipython",
    "version": 3
   },
   "file_extension": ".py",
   "mimetype": "text/x-python",
   "name": "python",
   "nbconvert_exporter": "python",
   "pygments_lexer": "ipython3",
   "version": "3.12.2"
  }
 },
 "nbformat": 4,
 "nbformat_minor": 5
}
