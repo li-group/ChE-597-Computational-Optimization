{
 "cells": [
  {
   "cell_type": "code",
   "execution_count": 1,
   "id": "f9716eb6-fec8-41d6-8e8c-27dd10dc26e2",
   "metadata": {},
   "outputs": [
    {
     "name": "stdout",
     "output_type": "stream",
     "text": [
      "3 Var Declarations\n",
      "    a : Size=1, Index=None\n",
      "        Key  : Lower : Value                   : Upper : Fixed : Stale : Domain\n",
      "        None :  None : -1.9045306605600573e-08 :  None : False : False :  Reals\n",
      "    b : Size=1, Index=None\n",
      "        Key  : Lower : Value               : Upper : Fixed : Stale : Domain\n",
      "        None :  None : -44.678959652617436 :  None : False : False :  Reals\n",
      "    x : Size=2, Index={1, 2}\n",
      "        Key : Lower : Value                 : Upper : Fixed : Stale : Domain\n",
      "          1 :     0 : 4.810532201162198e-09 :  None : False : False : NonNegativeReals\n",
      "          2 :     0 :    3.9962076809662066 :  None : False : False : NonNegativeReals\n",
      "\n",
      "1 Objective Declarations\n",
      "    obj : Size=1, Index=None, Active=True\n",
      "        Key  : Active : Sense    : Expression\n",
      "        None :   True : minimize : x[1] - 2*x[2]\n",
      "\n",
      "9 Constraint Declarations\n",
      "    constraint1 : Size=1, Index=None, Active=True\n",
      "        Key  : Lower : Body : Upper : Active\n",
      "        None :  -Inf : x[1] :   3.0 :   True\n",
      "    constraint2 : Size=1, Index=None, Active=True\n",
      "        Key  : Lower : Body : Upper : Active\n",
      "        None :  -Inf : x[2] :   5.0 :   True\n",
      "    constraint3 : Size=1, Index=None, Active=True\n",
      "        Key  : Lower : Body                        : Upper : Active\n",
      "        None :  -Inf : -6.708203932499369*x[1] - a :   0.0 :   True\n",
      "    constraint4 : Size=1, Index=None, Active=True\n",
      "        Key  : Lower : Body : Upper : Active\n",
      "        None :  -Inf :    a :   0.0 :   True\n",
      "    constraint5 : Size=1, Index=None, Active=True\n",
      "        Key  : Lower : Body                                               : Upper : Active\n",
      "        None :  -Inf : a - (-13.416407864998739*x[1] + 20.12461179749811) :   0.0 :   True\n",
      "    constraint6 : Size=1, Index=None, Active=True\n",
      "        Key  : Lower : Body                         : Upper : Active\n",
      "        None :  -Inf : -11.180339887498949*x[2] - b :   0.0 :   True\n",
      "    constraint7 : Size=1, Index=None, Active=True\n",
      "        Key  : Lower : Body : Upper : Active\n",
      "        None :  -Inf :    b :   0.0 :   True\n",
      "    constraint8 : Size=1, Index=None, Active=True\n",
      "        Key  : Lower : Body                                               : Upper : Active\n",
      "        None :  -Inf : b - (-22.360679774997898*x[2] + 55.90169943749474) :   0.0 :   True\n",
      "    constraint9 : Size=1, Index=None, Active=True\n",
      "        Key  : Lower : Body                                                                                   : Upper : Active\n",
      "        None :  -Inf : a + b - x[1]*x[1] + x[2]*x[2] + 4*x[1]*x[2] + 2.23606797749979*(x[1]*x[1] + x[2]*x[2]) :   7.0 :   True\n",
      "\n",
      "13 Declarations: x a b obj constraint1 constraint2 constraint3 constraint4 constraint5 constraint6 constraint7 constraint8 constraint9\n"
     ]
    }
   ],
   "source": [
    "from pyomo.environ import *\n",
    "model = ConcreteModel() #Upper bound\n",
    "    \n",
    "    # Define the variables\n",
    "\n",
    "model.x = Var(range(1,3),domain = NonNegativeReals)\n",
    "model.a = Var()\n",
    "model.b = Var()\n",
    "model.obj = Objective(expr = model.x[1]-2*model.x[2], sense=minimize)    \n",
    "model.constraint1 = Constraint(expr = model.x[1]<=3)\n",
    "model.constraint2 = Constraint(expr = model.x[2]<=5)\n",
    "model.constraint3 = Constraint(expr = model.a>=-3*sqrt(5)*model.x[1])\n",
    "model.constraint4 = Constraint(expr = model.a<=0)\n",
    "model.constraint5 = Constraint(expr = model.a<=-6*sqrt(5)*model.x[1]+9*sqrt(5))\n",
    "model.constraint6 = Constraint(expr = model.b>=-5*sqrt(5)*model.x[2])\n",
    "model.constraint7 = Constraint(expr = model.b<=0)\n",
    "model.constraint8 = Constraint(expr = model.b<=-10*sqrt(5)*model.x[2]+25*sqrt(5))\n",
    "model.constraint9 = Constraint(expr = model.a+model.b+-model.x[1]*model.x[1] + model.x[2]*model.x[2] + 4*model.x[1]*model.x[2]+sqrt(5)*(model.x[1]*model.x[1]+model.x[2]*model.x[2])<=7)\n",
    "solver = SolverFactory('gurobi')  # Use GLPK solver\n",
    "solver.solve(model)\n",
    "model.pprint()"
   ]
  },
  {
   "cell_type": "code",
   "execution_count": 2,
   "id": "9052a073-d212-4938-bbd4-d2cadec3e54c",
   "metadata": {},
   "outputs": [
    {
     "data": {
      "text/plain": [
       "-7.992415357121881"
      ]
     },
     "execution_count": 2,
     "metadata": {},
     "output_type": "execute_result"
    }
   ],
   "source": [
    "model.obj()"
   ]
  },
  {
   "cell_type": "code",
   "execution_count": 3,
   "id": "1e666e3e-8ee5-4651-8d9d-48a6a4499bc7",
   "metadata": {},
   "outputs": [
    {
     "data": {
      "text/plain": [
       "6.999996967849596"
      ]
     },
     "execution_count": 3,
     "metadata": {},
     "output_type": "execute_result"
    }
   ],
   "source": [
    "model.constraint9.body()"
   ]
  },
  {
   "cell_type": "code",
   "execution_count": null,
   "id": "b183fe4f-cb45-4999-89bf-b189f24f0f44",
   "metadata": {},
   "outputs": [],
   "source": []
  }
 ],
 "metadata": {
  "kernelspec": {
   "display_name": "Python 3 (ipykernel)",
   "language": "python",
   "name": "python3"
  },
  "language_info": {
   "codemirror_mode": {
    "name": "ipython",
    "version": 3
   },
   "file_extension": ".py",
   "mimetype": "text/x-python",
   "name": "python",
   "nbconvert_exporter": "python",
   "pygments_lexer": "ipython3",
   "version": "3.12.2"
  }
 },
 "nbformat": 4,
 "nbformat_minor": 5
}
