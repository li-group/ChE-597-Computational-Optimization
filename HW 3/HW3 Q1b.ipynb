{
 "cells": [
  {
   "cell_type": "markdown",
   "metadata": {},
   "source": [
    "**Homeowork 2: Problem 1- Heat Exchanger LP Transshipment model**"
   ]
  },
  {
   "cell_type": "markdown",
   "metadata": {},
   "source": [
    "Our formulated LP model is as follows:\n",
    "\n",
    "$$\n",
    "\\begin{array}{ll}\n",
    "\\min &  Z=Q_s+Q_w \\\\\n",
    "\\text { s.t. } & R_1-Q_s=-30 \\\\\n",
    "& R_2-R_1=-30 \\\\\n",
    "& R_3-R_2=123 \\\\\n",
    "& Q_w-R_3=102 \\\\\n",
    "& Q_s, Q_w, R_1, R_2, R_3 \\geq 0\n",
    "\\end{array}\n",
    "$$\n",
    "\n",
    "Let us formulate and solve the problem using Pyomo"
   ]
  },
  {
   "cell_type": "code",
   "execution_count": 2,
   "metadata": {},
   "outputs": [],
   "source": [
    "# Importing Libraries\n",
    "from pyomo.environ import *\n",
    "import numpy as np"
   ]
  },
  {
   "cell_type": "code",
   "execution_count": 3,
   "metadata": {},
   "outputs": [],
   "source": [
    "# Pyomo Model\n",
    "model = ConcreteModel()\n",
    "\n",
    "# Defining Variables\n",
    "\n",
    "model.R1 = Var(domain = NonNegativeReals)\n",
    "model.R2 = Var(domain = NonNegativeReals)\n",
    "model.R3 = Var(domain = NonNegativeReals)\n",
    "model.Qs = Var(domain = NonNegativeReals)\n",
    "model.Qw = Var(domain = NonNegativeReals)"
   ]
  },
  {
   "cell_type": "code",
   "execution_count": 5,
   "metadata": {},
   "outputs": [],
   "source": [
    "# Defining Objective\n",
    "\n",
    "model.obj = Objective(expr = model.Qs + model.Qw, sense = minimize)\n",
    "\n",
    "# Defining Constraints\n",
    "model.con1 = Constraint(expr = model.R1 - model.Qs == -30)\n",
    "model.con2 = Constraint(expr = model.R2 - model.R1 == -30)\n",
    "model.con3 = Constraint(expr = model.R3 - model.R2 == 123)\n",
    "model.con4 = Constraint(expr = model.Qw - model.R3 == 102)"
   ]
  },
  {
   "cell_type": "code",
   "execution_count": 7,
   "metadata": {},
   "outputs": [
    {
     "name": "stdout",
     "output_type": "stream",
     "text": [
      "Optimal value of the objective function: 285.0\n",
      "Optimal values of variable:\n",
      "Qs =  60.0 MW\n",
      "Qw =  225.0 MW\n",
      "R1 =  30.0 MW\n",
      "R2 =  0.0 MW\n",
      "R3 =  123.0 MW\n"
     ]
    }
   ],
   "source": [
    "# Solving the model\n",
    "\n",
    "solver = SolverFactory('gurobi')\n",
    "solver.solve(model)\n",
    "\n",
    "# Printing the result\n",
    "print(\"Optimal value of the objective function:\", model.obj())\n",
    "print(\"Optimal values of variable:\")\n",
    "print(\"Qs = \", value(model.Qs), \"MW\")\n",
    "print(\"Qw = \", value(model.Qw), \"MW\")\n",
    "print(\"R1 = \", value(model.R1), \"MW\")\n",
    "print(\"R2 = \", value(model.R2), \"MW\")\n",
    "print(\"R3 = \", value(model.R3), \"MW\")\n",
    "\n"
   ]
  }
 ],
 "metadata": {
  "kernelspec": {
   "display_name": "opti_chat",
   "language": "python",
   "name": "python3"
  },
  "language_info": {
   "codemirror_mode": {
    "name": "ipython",
    "version": 3
   },
   "file_extension": ".py",
   "mimetype": "text/x-python",
   "name": "python",
   "nbconvert_exporter": "python",
   "pygments_lexer": "ipython3",
   "version": "3.11.5"
  }
 },
 "nbformat": 4,
 "nbformat_minor": 2
}
