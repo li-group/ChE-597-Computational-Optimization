{
 "cells": [
  {
   "cell_type": "markdown",
   "metadata": {},
   "source": [
    "## Homework-4 ##"
   ]
  },
  {
   "cell_type": "markdown",
   "metadata": {},
   "source": [
    "### Question - 5 : SDP Problem\n",
    "\n",
    "Solve the following SDP problem using the cutting plane algorithm in python. \n",
    "\n",
    "$$\n",
    "\\begin{aligned}\n",
    "    \\max_{X\\in \\mathcal{S}^{4}} \\sum_{i,j,i\\neq j} Q_{ij} \\cdot (1 - X_{ij})\\\\\n",
    "\\text{diag}(X) = e\\\\\n",
    "X\\succeq 0 \n",
    "\\end{aligned}\n",
    "$$\n",
    "\n",
    "where\n",
    "$\n",
    "Q = \\begin{bmatrix}\n",
    "0 & 1 & 3 & 1 \\\\\n",
    "1 & 0 & 0 & 2 \\\\\n",
    "3 & 0 & 0 & 4 \\\\\n",
    "1 &2 & 4 & 0 \\\\\n",
    "\\end{bmatrix}\n",
    "$\n",
    "\n",
    "\n",
    "$\\text{diag}(X) = e$ means the diagonal entries of $X$ equal to 1. "
   ]
  },
  {
   "cell_type": "code",
   "execution_count": 1,
   "metadata": {},
   "outputs": [],
   "source": [
    "# Including libraries\n",
    "from pyomo.environ import *\n",
    "import numpy as np\n",
    "import pprint"
   ]
  },
  {
   "cell_type": "code",
   "execution_count": 2,
   "metadata": {},
   "outputs": [],
   "source": [
    "# Creating a Pyomo model\n",
    "model = ConcreteModel()\n",
    "\n",
    "# Define sets\n",
    "model.I = RangeSet(4)\n",
    "\n",
    "# Define variables\n",
    "model.X = Var(model.I, model.I)\n",
    "\n",
    "# Define parameters\n",
    "def Q_init(model, i, j):\n",
    "    Q = np.array([[0, 1, 3, 1], [1, 0, 0, 2], [3, 0, 0, 4], [1, 2, 4, 0]])\n",
    "    return Q[i-1, j-1]\n",
    "\n",
    "model.Q = Param(model.I, model.I, initialize=Q_init)\n"
   ]
  },
  {
   "cell_type": "code",
   "execution_count": 3,
   "metadata": {},
   "outputs": [],
   "source": [
    "# Define objective function\n",
    "\n",
    "model.obj = Objective(expr= sum(model.Q[(i,j)]*(1- model.X[(i,j)]) for i in model.I for j in model.I if i!=j), sense=maximize)\n"
   ]
  },
  {
   "cell_type": "code",
   "execution_count": 4,
   "metadata": {},
   "outputs": [],
   "source": [
    "# Define constraints\n",
    "\n",
    "def const_rule1(model, i): # Constraint to set the diagonal values of X to be 1\n",
    "    return model.X[(i,i)] == 1\n",
    "\n",
    "model.const1 = Constraint(model.I, rule = const_rule1)\n",
    "\n",
    "\n",
    "def const_rule2(model,  i, j): # Constraint to keep X matrix symmetric\n",
    "    if i!=j:\n",
    "        return model.X[(i,j)] == model.X[(j,i)]\n",
    "    else:\n",
    "        return Constraint.Skip\n",
    "    \n",
    "model.const4 = Constraint(model.I, model.I, rule = const_rule2)"
   ]
  },
  {
   "cell_type": "markdown",
   "metadata": {},
   "source": [
    " Initially, even before we implement the cutting plane algorithm, we start with the linear constraint $(X_{ii} = 1)$ for all $i$ in the range $(1,4)$, along with the symmetry constraint $X_{ij} = X_{ji}$ for all pairs $(i,j)$ where $i,j$ range from $1$ to $3$ and $i \\neq j$. Consequently, the problem remains unbounded during this initial phase. This occurs due to the presence of the term $1 - X_{ij}$ in the objective function, where $X_{ij}$ represents the off-diagonal elements. Without bounds on these elements, when these elements are multiplied by a positive quantity $Q_{ij}$, they have the potential to approach $-\\infty$, thereby causing the objective value to tend towards $+\\infty$, rendering the problem unbounded. To ensure the problem is bounded, we utilize the property of positive semi-definite matrices, which dictates that its principal minors must always be non-negative.\n",
    "\n",
    "Considering the minor of a principal diagonal element:\n",
    "\n",
    "\\begin{vmatrix}\n",
    "X_{ii} & X_{ij} \\\\\n",
    "X_{ji} & X_{jj} \\\\\n",
    "\\end{vmatrix}\n",
    "\n",
    "We require this minor to be non-negative, thus yielding the inequality:\n",
    "\n",
    "$$X_{ij} * X_{ji} <= X_{ii}*X_{jj}$$\n",
    "\n",
    "Given the symmetry of matrix X, we can express this inequality as:\n",
    "\n",
    "$$X_{ij}^2 <= X_{ii}*X_{jj}$$\n",
    "\n",
    "Since we have set all diagonal elements to be 1, we ultimately obtain:\n",
    "\n",
    "$$-1 <= X_{ij} <= 1$$\n",
    "\n",
    "\n",
    "\n"
   ]
  },
  {
   "cell_type": "code",
   "execution_count": 5,
   "metadata": {},
   "outputs": [],
   "source": [
    "# Constraints to set bounds on off-diagonal elements of X\n",
    "\n",
    "def const_rule3(model, i, j): \n",
    "    if i !=j:\n",
    "        return model.X[(i,j)] <= 1\n",
    "    else:\n",
    "        return Constraint.Skip\n",
    "    \n",
    "model.const2 = Constraint(model.I, model.I, rule = const_rule3)\n",
    "\n",
    "def const_rule4(model, i, j):\n",
    "    if i !=j:\n",
    "        return model.X[(i,j)] >= -1\n",
    "    else:\n",
    "        return Constraint.Skip\n",
    "\n",
    "model.const3 = Constraint(model.I, model.I, rule = const_rule4)"
   ]
  },
  {
   "cell_type": "code",
   "execution_count": 6,
   "metadata": {},
   "outputs": [
    {
     "name": "stdout",
     "output_type": "stream",
     "text": [
      "Smallest eigenvalue: -2.0\n",
      "Smallest eigenvalue: -1.2360679774997902\n",
      "Smallest eigenvalue: -0.2678988334904915\n",
      "Smallest eigenvalue: -0.03371150099352954\n",
      "Smallest eigenvalue: -0.0007832142325588738\n",
      "Smallest eigenvalue: -4.5068074181236966e-07\n",
      "Optimal solution found.\n",
      "Optimum objective function value is: 40.0\n",
      "\n",
      "Optimal solution:\n",
      "X[1,1] = 1.0\n",
      "X[1,2] = -0.9999987687177235\n",
      "X[1,3] = -1.0\n",
      "X[1,4] = 0.9999987687177235\n",
      "X[2,1] = -0.9999987687177235\n",
      "X[2,2] = 1.0\n",
      "X[2,3] = 1.0\n",
      "X[2,4] = -1.0\n",
      "X[3,1] = -1.0\n",
      "X[3,2] = 1.0\n",
      "X[3,3] = 1.0\n",
      "X[3,4] = -1.0\n",
      "X[4,1] = 0.9999987687177235\n",
      "X[4,2] = -1.0\n",
      "X[4,3] = -1.0\n",
      "X[4,4] = 1.0\n",
      "\n",
      "Eigen values of Optimum solution X are: [ 3.99999877e+00  1.68196283e-06 -4.50680742e-07  4.00258014e-23]\n"
     ]
    }
   ],
   "source": [
    "# Setting the solver\n",
    "solver = SolverFactory('gurobi')  # Using Gurobi solver\n",
    "\n",
    "# Creating a constraint list object in Pyomo to iteratively add constraints\n",
    "model.cuts = ConstraintList()\n",
    "\n",
    "#  Cutting plane algorithm:\n",
    "\n",
    "while True:\n",
    "    \n",
    "    results = solver.solve(model)\n",
    "\n",
    "    # Check for solver termination status\n",
    "    if results.solver.termination_condition != TerminationCondition.optimal:\n",
    "        print(\"Solver failed to converge.\")\n",
    "        break\n",
    "    \n",
    "    # Extract the optimal solution\n",
    "    X_val = np.array([[model.X[i, j].value for j in model.I] for i in model.I])\n",
    "    \n",
    "    # Perform eigenvalue decomposition\n",
    "    eigenvalues, eigenvectors = np.linalg.eig(X_val)\n",
    "    \n",
    "    # Find the smallest eigenvalue\n",
    "    smallest_eigenvalue = min(eigenvalues)\n",
    "    print(\"Smallest eigenvalue:\", smallest_eigenvalue)\n",
    "\n",
    "    # Check termination condition\n",
    "    if smallest_eigenvalue >= -1e-4:\n",
    "        print(\"Optimal solution found.\")\n",
    "        break\n",
    "    \n",
    "    # Find the eigen vector corresponding to the smallest eigen value\n",
    "    v = eigenvectors[:, np.argmin(eigenvalues)]\n",
    "\n",
    "    # Add the violated constraint\n",
    "    expr = sum(v[k-1]*model.X[(k,j)]*v[j-1] for k in model.I for j in model.I) \n",
    "    model.cuts.add(expr >= 0)\n",
    "\n",
    "\n",
    "# Print optimal solution\n",
    "print(\"Optimum objective function value is:\", model.obj())\n",
    "print(\"\\nOptimal solution:\")\n",
    "for i in model.I:\n",
    "    for j in model.I:\n",
    "        print(f\"X[{i},{j}] = {model.X[i, j].value}\")\n",
    "\n",
    "print(\"\\nEigen values of Optimum solution X are:\", eigenvalues)"
   ]
  },
  {
   "cell_type": "code",
   "execution_count": 7,
   "metadata": {},
   "outputs": [
    {
     "name": "stdout",
     "output_type": "stream",
     "text": [
      "cuts : Size=5\n",
      "    Key : Lower : Body                  : Upper\n",
      "      1 :   0.0 :                   0.0 :  None\n",
      "      2 :   0.0 :    0.5527853032076955 :  None\n",
      "      3 :   0.0 :  0.045596364558006225 :  None\n",
      "      4 :   0.0 : 0.0008210834830717634 :  None\n",
      "      5 :   0.0 :                   0.0 :  None\n"
     ]
    }
   ],
   "source": [
    "model.cuts.display()"
   ]
  }
 ],
 "metadata": {
  "kernelspec": {
   "display_name": "opti_chat",
   "language": "python",
   "name": "python3"
  },
  "language_info": {
   "codemirror_mode": {
    "name": "ipython",
    "version": 3
   },
   "file_extension": ".py",
   "mimetype": "text/x-python",
   "name": "python",
   "nbconvert_exporter": "python",
   "pygments_lexer": "ipython3",
   "version": "3.12.1"
  }
 },
 "nbformat": 4,
 "nbformat_minor": 2
}
