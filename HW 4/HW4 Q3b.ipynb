{
 "cells": [
  {
   "cell_type": "markdown",
   "metadata": {},
   "source": [
    "**Homework 3- Question 3 Terrorist Problem Solution**"
   ]
  },
  {
   "cell_type": "markdown",
   "metadata": {},
   "source": [
    "The given formulation for terrorist problem in the question is as follows\n",
    "\n",
    "\\begin{equation*}\n",
    "\\begin{aligned}\n",
    "\\min_{u} \\quad \\{\\max_{x} & \\{u^TAx\\} \\}\\\\\n",
    "\\textrm{s.t.} \\quad & u \\geq 0 \\\\\n",
    "  & x \\geq 0    \\\\\n",
    "  & e^Tx = e^Tu = 1 \\\\\n",
    "\\end{aligned}\n",
    "\\end{equation*}"
   ]
  },
  {
   "cell_type": "markdown",
   "metadata": {},
   "source": [
    "We can rewrite the above formulation in a way that is simple to code in Pyomo (by introducing a new variable). Here is an equivalent formulation to the above problem.\n",
    "\n",
    "\\begin{equation*}\n",
    "\\begin{aligned}\n",
    "\\min_{u,w} \\quad  w\\\\\n",
    "\\textrm{s.t.} \\quad & we^T -u^TA \\geq 0 \\\\\n",
    "  & u^Te = 1 \\\\\n",
    "  & u \\geq 0    \\\\\n",
    "\\end{aligned}\n",
    "\\end{equation*}\n",
    "\n",
    "Now, let us code this in Pyomo\n"
   ]
  },
  {
   "cell_type": "markdown",
   "metadata": {},
   "source": [
    "Importing Libraries"
   ]
  },
  {
   "cell_type": "code",
   "execution_count": 1,
   "metadata": {},
   "outputs": [],
   "source": [
    "from pyomo.environ import *\n",
    "import numpy as np"
   ]
  },
  {
   "cell_type": "markdown",
   "metadata": {},
   "source": [
    "Defining the model, sets and varibles"
   ]
  },
  {
   "cell_type": "code",
   "execution_count": 2,
   "metadata": {},
   "outputs": [],
   "source": [
    "# Defining the Model\n",
    "model = ConcreteModel()\n",
    "\n",
    "# Sets\n",
    "model.I = RangeSet(1, 3)\n",
    "\n",
    "# Define variables\n",
    "model.u = Var(model.I, domain=NonNegativeReals)\n",
    "model.w = Var(domain = Reals)"
   ]
  },
  {
   "cell_type": "markdown",
   "metadata": {},
   "source": [
    "Defining objective and constraints"
   ]
  },
  {
   "cell_type": "code",
   "execution_count": 3,
   "metadata": {},
   "outputs": [
    {
     "name": "stderr",
     "output_type": "stream",
     "text": [
      "C:\\Users\\saima\\AppData\\Local\\Temp\\ipykernel_13504\\64008927.py:12: DeprecationWarning: Calling np.sum(generator) is deprecated, and in the future will give a different result. Use np.sum(np.fromiter(generator)) or the python sum builtin instead.\n",
      "  return model.w - np.sum(model.A[i,j] * model.u[i] for i in model.I) >= 0\n"
     ]
    }
   ],
   "source": [
    "# Objective\n",
    "model.obj = Objective(expr= model.w, sense=minimize)\n",
    "\n",
    "# Constraints\n",
    "model.con1 = Constraint(expr=sum(model.u[j] for j in model.I) == 1)\n",
    "\n",
    "# Define the matrix A as a dictionary\n",
    "A_values = {(1, 1): 4, (1, 2): -10, (1, 3): -10, (2, 1): -8, (2, 2): 5, (2, 3): -8, (3, 1): -12, (3, 2): -12, (3, 3): 9}\n",
    "model.A = Param(model.I, model.I, initialize=A_values)\n",
    "\n",
    "def cost_constraint_rule(model, j):\n",
    "    return model.w - np.sum(model.A[i,j] * model.u[i] for i in model.I) >= 0\n",
    "\n",
    "model.con2 = Constraint(model.I, rule=cost_constraint_rule)"
   ]
  },
  {
   "cell_type": "markdown",
   "metadata": {},
   "source": [
    "Soving the above model using a solver( I used Gurobi)"
   ]
  },
  {
   "cell_type": "code",
   "execution_count": 4,
   "metadata": {},
   "outputs": [
    {
     "data": {
      "text/plain": [
       "{'Problem': [{'Name': 'x1', 'Lower bound': -4.598130841121495, 'Upper bound': -4.598130841121495, 'Number of objectives': 1, 'Number of constraints': 4, 'Number of variables': 4, 'Number of binary variables': 0, 'Number of integer variables': 0, 'Number of continuous variables': 4, 'Number of nonzeros': 15, 'Sense': 'minimize'}], 'Solver': [{'Status': 'ok', 'Return code': '0', 'Message': 'Model was solved to optimality (subject to tolerances), and an optimal solution is available.', 'Termination condition': 'optimal', 'Termination message': 'Model was solved to optimality (subject to tolerances), and an optimal solution is available.', 'Wall time': '0.0', 'Error rc': 0, 'Time': 0.3341655731201172}], 'Solution': [OrderedDict([('number of solutions', 0), ('number of solutions displayed', 0)])]}"
      ]
     },
     "execution_count": 4,
     "metadata": {},
     "output_type": "execute_result"
    }
   ],
   "source": [
    "solver = SolverFactory('gurobi')\n",
    "solver.solve(model)"
   ]
  },
  {
   "cell_type": "markdown",
   "metadata": {},
   "source": [
    "Displaying the result"
   ]
  },
  {
   "cell_type": "code",
   "execution_count": 5,
   "metadata": {},
   "outputs": [
    {
     "name": "stdout",
     "output_type": "stream",
     "text": [
      "Optimal value of the objective function: -4.598130841121495\n",
      "Optimal values of u:\n",
      "u[1] = 0.36448598130841114\n",
      "u[2] = 0.39252336448598135\n",
      "u[3] = 0.24299065420560745\n"
     ]
    }
   ],
   "source": [
    "print(\"Optimal value of the objective function:\", model.obj())\n",
    "print(\"Optimal values of u:\")\n",
    "for j in model.I:\n",
    "    print(f\"u[{j}] =\", value(model.u[j]))"
   ]
  }
 ],
 "metadata": {
  "kernelspec": {
   "display_name": "opti_chat",
   "language": "python",
   "name": "python3"
  },
  "language_info": {
   "codemirror_mode": {
    "name": "ipython",
    "version": 3
   },
   "file_extension": ".py",
   "mimetype": "text/x-python",
   "name": "python",
   "nbconvert_exporter": "python",
   "pygments_lexer": "ipython3",
   "version": "3.11.5"
  }
 },
 "nbformat": 4,
 "nbformat_minor": 2
}
