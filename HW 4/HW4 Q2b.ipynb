{
 "cells": [
  {
   "cell_type": "markdown",
   "metadata": {},
   "source": [
    "## Homework 4 ##"
   ]
  },
  {
   "cell_type": "markdown",
   "metadata": {},
   "source": [
    "### Question 2: Min-Cut problem formulation as an LP problem\n",
    "\n",
    " The minimum cut problem requires identifying the minimal set of edges that, when removed, completely separates the source and sink vertices, creating two non-overlapping partitions in the graph. In other words, given\n",
    "any subset S of nodes with source node $s \\in S$, let T be the set of the remaining nodes. The cut (S, T ) is the set of edges $ e = (u, v)$ with $u \\in S$ and $v \\in  T$. It is so-called because removing all those edges in the cut would cut the flow from s to t. Let c(e), $e \\in E$ be the capacity of the edge, i.e., the maximum amount of commodity that one can push through the edge. Let $x_k$, $\\forall$ $k \\in V$ be a variable corresponding to the vertices and let $y_e$,  $\\forall$ $e =(u,v) \\in E$ be a variable corresponding to the edges. The min-cut problem can be formulated as the following:\n",
    "\n",
    "\\begin{align*}\n",
    "\\text{minimize} \\quad & \\sum_{e \\in E} c(e) y_e \\\\\n",
    "\\text{subject to} \\quad & x_u - x_v + y_e \\geq 0 \\quad \\forall e=(u, v) \\in E \\\\\n",
    "& -x_s + x_t \\geq 1 \\\\\n",
    "& x_v \\in \\mathbb{R} \\quad \\forall v \\in V \\\\\n",
    "& y_e \\geq 0 \\quad \\forall e \\in E\n",
    "\\end{align*}\n",
    "\n",
    "For the directed graph given below, solve the min-cut problem using Pyomo"
   ]
  },
  {
   "cell_type": "code",
   "execution_count": 1,
   "metadata": {},
   "outputs": [
    {
     "data": {
      "text/html": [
       "<img src=\"fig1.png\" width=\"500\" height=\"300\"/>"
      ],
      "text/plain": [
       "<IPython.core.display.Image object>"
      ]
     },
     "execution_count": 1,
     "metadata": {},
     "output_type": "execute_result"
    }
   ],
   "source": [
    "# import image module \n",
    "from IPython.display import Image \n",
    "  \n",
    "# get the image \n",
    "Image(url=\"fig1.png\", width=500, height=300) "
   ]
  },
  {
   "cell_type": "code",
   "execution_count": 2,
   "metadata": {},
   "outputs": [],
   "source": [
    "# Including Libraries\n",
    "\n",
    "from pyomo.environ import *\n",
    "import numpy as np\n",
    "import pprint"
   ]
  },
  {
   "cell_type": "code",
   "execution_count": 3,
   "metadata": {},
   "outputs": [],
   "source": [
    "# Create a Pyomo Model\n",
    "model = ConcreteModel()\n",
    "\n",
    "# Define sets\n",
    "\n",
    "model.v = RangeSet(0,5)\n",
    "\n",
    "edges = [(0,1), (0,2), (1,2), (1,3), (2,1), (2,4), (3,2), (3,5), (4,3), (4,5)] # Edge tuples\n",
    "model.edges = Set(initialize = edges) \n",
    "\n",
    "# Define parameters\n",
    "\n",
    "cap_list = [16, 13, 10, 12, 4, 14, 9, 20, 7, 4]\n",
    "capacities = {(i, j): cap_list[idx] for idx, (i, j) in enumerate(model.edges)}\n",
    "\n",
    "model.cap = Param(model.edges, initialize = capacities)\n",
    "\n",
    "# Define variables\n",
    "\n",
    "model.x = Var(model.v)\n",
    "\n",
    "model.y = Var(model.edges, domain = NonNegativeReals)"
   ]
  },
  {
   "cell_type": "code",
   "execution_count": 4,
   "metadata": {},
   "outputs": [],
   "source": [
    "# Define objective\n",
    "\n",
    "model.obj = Objective(expr = sum(model.cap[(i,j)]*model.y[(i,j)] for i,j in model.edges), sense = minimize)\n",
    "\n",
    "# Define constraints\n",
    "\n",
    "def const_rule1(model,i,j):\n",
    "    return(model.x[i] - model.x[j] + model.y[(i,j)] >= 0)\n",
    "\n",
    "model.const1 = Constraint(model.edges, rule = const_rule1)\n",
    "\n",
    "model.const2 = Constraint(expr = -model.x[0] + model.x[5] >=1)"
   ]
  },
  {
   "cell_type": "code",
   "execution_count": 5,
   "metadata": {},
   "outputs": [
    {
     "data": {
      "text/plain": [
       "{'Problem': [{'Name': 'x1', 'Lower bound': 23.0, 'Upper bound': 23.0, 'Number of objectives': 1, 'Number of constraints': 11, 'Number of variables': 16, 'Number of binary variables': 0, 'Number of integer variables': 0, 'Number of continuous variables': 16, 'Number of nonzeros': 32, 'Sense': 'minimize'}], 'Solver': [{'Status': 'ok', 'Return code': '0', 'Message': 'Model was solved to optimality (subject to tolerances), and an optimal solution is available.', 'Termination condition': 'optimal', 'Termination message': 'Model was solved to optimality (subject to tolerances), and an optimal solution is available.', 'Wall time': '0.0009999275207519531', 'Error rc': 0, 'Time': 0.3340587615966797}], 'Solution': [OrderedDict([('number of solutions', 0), ('number of solutions displayed', 0)])]}"
      ]
     },
     "execution_count": 5,
     "metadata": {},
     "output_type": "execute_result"
    }
   ],
   "source": [
    "# Solve the problem\n",
    "\n",
    "solver = SolverFactory('gurobi')\n",
    "solver.solve(model)"
   ]
  },
  {
   "cell_type": "code",
   "execution_count": 8,
   "metadata": {},
   "outputs": [
    {
     "name": "stdout",
     "output_type": "stream",
     "text": [
      "The optimal objective value is: 23.0\n",
      "\n",
      "Printing x variable values:\n",
      "x [0] : -1.0\n",
      "x [1] : -1.0\n",
      "x [2] : -1.0\n",
      "x [3] : 0.0\n",
      "x [4] : -1.0\n",
      "x [5] : 0.0\n",
      "\n",
      "Printing y variable values:\n",
      "y [0, 1] : 0.0\n",
      "y [0, 2] : 0.0\n",
      "y [1, 2] : 0.0\n",
      "y [1, 3] : 1.0\n",
      "y [2, 1] : 0.0\n",
      "y [2, 4] : 0.0\n",
      "y [3, 2] : 0.0\n",
      "y [3, 5] : 0.0\n",
      "y [4, 3] : 1.0\n",
      "y [4, 5] : 1.0\n"
     ]
    }
   ],
   "source": [
    "# printing the result\n",
    "\n",
    "print(\"The optimal objective value is:\", model.obj())\n",
    "\n",
    "print(\"\\nPrinting x variable values:\")\n",
    "for i in model.v:\n",
    "    print(\"x\",[i], \":\", model.x[i].value)\n",
    "\n",
    "print(\"\\nPrinting y variable values:\")\n",
    "for i,j in model.edges:\n",
    "    print(\"y\",[i,j], \":\", model.y[i,j].value)\n"
   ]
  }
 ],
 "metadata": {
  "kernelspec": {
   "display_name": "opti_chat",
   "language": "python",
   "name": "python3"
  },
  "language_info": {
   "codemirror_mode": {
    "name": "ipython",
    "version": 3
   },
   "file_extension": ".py",
   "mimetype": "text/x-python",
   "name": "python",
   "nbconvert_exporter": "python",
   "pygments_lexer": "ipython3",
   "version": "3.11.5"
  }
 },
 "nbformat": 4,
 "nbformat_minor": 2
}
