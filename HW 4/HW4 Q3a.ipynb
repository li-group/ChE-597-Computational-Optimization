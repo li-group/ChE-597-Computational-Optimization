{
 "cells": [
  {
   "cell_type": "markdown",
   "metadata": {},
   "source": [
    "**Homework 3- Question 3 Police Problem Solution**"
   ]
  },
  {
   "cell_type": "markdown",
   "metadata": {},
   "source": [
    "The given formulation for police problem in the question is as follows\n",
    "\n",
    "\\begin{equation*}\n",
    "\\begin{aligned}\n",
    "\\max_{x} \\quad \\{\\min_{u} & \\{u^TAx\\} \\}\\\\\n",
    "\\textrm{s.t.} \\quad & u \\geq 0 \\\\\n",
    "  & x \\geq 0    \\\\\n",
    "  & e^Tx = e^Tu = 1 \\\\\n",
    "\\end{aligned}\n",
    "\\end{equation*}"
   ]
  },
  {
   "cell_type": "markdown",
   "metadata": {},
   "source": [
    "We can rewrite the above formulation in a way that is simple to code in Pyomo (by introducing a new variable). Here is an equivalent formulation to the above problem.\n",
    "\n",
    "\\begin{equation*}\n",
    "\\begin{aligned}\n",
    "\\max_{x,z} \\quad  z\\\\\n",
    "\\textrm{s.t.} \\quad & ze -Ax \\leq 0 \\\\\n",
    "  & e^Tx = 1 \\\\\n",
    "  & x \\geq 0    \\\\\n",
    "\\end{aligned}\n",
    "\\end{equation*}\n",
    "\n",
    "Now, let us code this in Pyomo\n"
   ]
  },
  {
   "cell_type": "markdown",
   "metadata": {},
   "source": [
    "Importing Libraries"
   ]
  },
  {
   "cell_type": "code",
   "execution_count": 1,
   "metadata": {},
   "outputs": [],
   "source": [
    "from pyomo.environ import *\n",
    "import numpy as np"
   ]
  },
  {
   "cell_type": "markdown",
   "metadata": {},
   "source": [
    "Defining the model, sets and varibles"
   ]
  },
  {
   "cell_type": "code",
   "execution_count": 3,
   "metadata": {},
   "outputs": [],
   "source": [
    "# Defining the Model\n",
    "model = ConcreteModel()\n",
    "\n",
    "# Sets\n",
    "model.I = RangeSet(1, 3)\n",
    "\n",
    "# Define variables\n",
    "model.x = Var(model.I, domain=NonNegativeReals)\n",
    "model.z = Var(domain = Reals)"
   ]
  },
  {
   "cell_type": "markdown",
   "metadata": {},
   "source": [
    "Defining objective and constraints"
   ]
  },
  {
   "cell_type": "code",
   "execution_count": null,
   "metadata": {},
   "outputs": [],
   "source": [
    "# Objective\n",
    "model.obj = Objective(expr= model.z, sense=maximize)\n",
    "\n",
    "# Constraints\n",
    "model.con1 = Constraint(expr=sum(model.x[j] for j in model.I) == 1)\n",
    "\n",
    "# Define the matrix A as a dictionary\n",
    "A_values = {(1, 1): 4, (1, 2): -10, (1, 3): -10, (2, 1): -8, (2, 2): 5, (2, 3): -8, (3, 1): -12, (3, 2): -12, (3, 3): 9}\n",
    "model.A = Param(model.I, model.I, initialize=A_values)\n",
    "\n",
    "def cost_constraint_rule(model, i):\n",
    "    return model.z - np.sum(model.A[i,j] * model.x[j] for j in model.I)<= 0\n",
    "\n",
    "model.con2 = Constraint(model.I, rule=cost_constraint_rule)\n"
   ]
  },
  {
   "cell_type": "markdown",
   "metadata": {},
   "source": [
    "Soving the above model using a solver( I used Gurobi)"
   ]
  },
  {
   "cell_type": "code",
   "execution_count": 6,
   "metadata": {},
   "outputs": [
    {
     "data": {
      "text/plain": [
       "{'Problem': [{'Name': 'x1', 'Lower bound': -4.598130841121495, 'Upper bound': -4.598130841121495, 'Number of objectives': 1, 'Number of constraints': 4, 'Number of variables': 4, 'Number of binary variables': 0, 'Number of integer variables': 0, 'Number of continuous variables': 4, 'Number of nonzeros': 15, 'Sense': 'maximize'}], 'Solver': [{'Status': 'ok', 'Return code': '0', 'Message': 'Model was solved to optimality (subject to tolerances), and an optimal solution is available.', 'Termination condition': 'optimal', 'Termination message': 'Model was solved to optimality (subject to tolerances), and an optimal solution is available.', 'Wall time': '0.0', 'Error rc': 0, 'Time': 0.3342111110687256}], 'Solution': [OrderedDict([('number of solutions', 0), ('number of solutions displayed', 0)])]}"
      ]
     },
     "execution_count": 6,
     "metadata": {},
     "output_type": "execute_result"
    }
   ],
   "source": [
    "solver = SolverFactory('gurobi')\n",
    "solver.solve(model)"
   ]
  },
  {
   "cell_type": "markdown",
   "metadata": {},
   "source": [
    "Displaying the result"
   ]
  },
  {
   "cell_type": "code",
   "execution_count": 7,
   "metadata": {},
   "outputs": [
    {
     "name": "stdout",
     "output_type": "stream",
     "text": [
      "Optimal value of the objective function: -4.598130841121495\n",
      "Optimal values of x:\n",
      "x[1] = 0.38584779706275035\n",
      "x[2] = 0.2616822429906542\n",
      "x[3] = 0.35246995994659547\n"
     ]
    }
   ],
   "source": [
    "print(\"Optimal value of the objective function:\", model.obj())\n",
    "print(\"Optimal values of x:\")\n",
    "for j in model.I:\n",
    "    print(f\"x[{j}] =\", value(model.x[j]))"
   ]
  }
 ],
 "metadata": {
  "kernelspec": {
   "display_name": "opti_chat",
   "language": "python",
   "name": "python3"
  },
  "language_info": {
   "codemirror_mode": {
    "name": "ipython",
    "version": 3
   },
   "file_extension": ".py",
   "mimetype": "text/x-python",
   "name": "python",
   "nbconvert_exporter": "python",
   "pygments_lexer": "ipython3",
   "version": "3.11.5"
  }
 },
 "nbformat": 4,
 "nbformat_minor": 2
}
