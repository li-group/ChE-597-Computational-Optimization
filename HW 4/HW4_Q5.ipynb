{
 "cells": [
  {
   "cell_type": "markdown",
   "metadata": {},
   "source": [
    "## Homework-4 ##"
   ]
  },
  {
   "cell_type": "markdown",
   "metadata": {},
   "source": [
    "### Question - 5 \n",
    "\n",
    "Solve the following SDP problem using the cutting plane algorithm in python. \n",
    "\n",
    "$$\n",
    "\\begin{aligned}\n",
    "    \\max_{X\\in \\mathcal{S}^{4}} \\sum_{i,j,i\\neq j} Q_{ij} \\cdot (1 - X_{ij})\\\\\n",
    "\\text{diag}(X) = e\\\\\n",
    "X\\succeq 0 \n",
    "\\end{aligned}\n",
    "$$\n",
    "\n",
    "where\n",
    "$\n",
    "Q = \\begin{bmatrix}\n",
    "0 & 1 & 3 & 1 \\\\\n",
    "1 & 0 & 0 & 2 \\\\\n",
    "3 & 0 & 0 & 4 \\\\\n",
    "1 &2 & 4 & 0 \\\\\n",
    "\\end{bmatrix}\n",
    "$\n",
    "\n",
    "\n",
    "$\\text{diag}(X) = e$ means the diagonal entries of $X$ equal to 1. "
   ]
  },
  {
   "cell_type": "code",
   "execution_count": 1,
   "metadata": {},
   "outputs": [],
   "source": [
    "# Including libraries\n",
    "\n",
    "from pyomo.environ import *\n",
    "import numpy as np\n",
    "import pprint"
   ]
  },
  {
   "cell_type": "code",
   "execution_count": 2,
   "metadata": {},
   "outputs": [
    {
     "name": "stdout",
     "output_type": "stream",
     "text": [
      "Q : Size=16, Index=Q_index, Domain=Any, Default=None, Mutable=False\n",
      "    Key    : Value\n",
      "    (0, 0) :     0\n",
      "    (0, 1) :     1\n",
      "    (0, 2) :     3\n",
      "    (0, 3) :     1\n",
      "    (1, 0) :     1\n",
      "    (1, 1) :     0\n",
      "    (1, 2) :     0\n",
      "    (1, 3) :     2\n",
      "    (2, 0) :     3\n",
      "    (2, 1) :     0\n",
      "    (2, 2) :     0\n",
      "    (2, 3) :     4\n",
      "    (3, 0) :     1\n",
      "    (3, 1) :     2\n",
      "    (3, 2) :     4\n",
      "    (3, 3) :     0\n"
     ]
    }
   ],
   "source": [
    "# Creating a Pyomo model\n",
    "\n",
    "model = ConcreteModel()\n",
    "\n",
    "# Define sets\n",
    "\n",
    "model.I = RangeSet(0,3)\n",
    "\n",
    "# Define variables\n",
    "model.X = Var(model.I, model.I)\n",
    "\n",
    "# Define parameters\n",
    "def Q_init(model, i, j):\n",
    "    Q = np.array([[0, 1, 3, 1], [1, 0, 0, 2], [3, 0, 0, 4], [1, 2, 4, 0]])\n",
    "    # Q = np.array([[10, -4, -12, -4], [-4, 6, 0, -8], [-12, 0, 14, -16], [-4, -8, -16, 14]])\n",
    "    return Q[i, j]\n",
    "\n",
    "model.Q = Param(model.I, model.I, initialize=Q_init)\n",
    "\n",
    "model.Q.pprint()"
   ]
  },
  {
   "cell_type": "markdown",
   "metadata": {},
   "source": [
    "In the first iteration of the cutting plane algorithm, we only have the linear constraint $(X_{ii} = 1), \\forall i = (1,3)$. Hence, the problem is unbounded in the first iteration. To make the problem bounded, we can introduce an additional constraint by adding an upper bound on the off-diagonal elements (just for the first iteration) of the $X$. Let's calculate a tight upper bound using out linear algebra knowledge\n",
    "\n",
    "We know, if a matrix $X$ is PSD, we have:\n",
    "\n",
    "$$ v^T X v \\geq 0 $$\n",
    "\n"
   ]
  },
  {
   "cell_type": "code",
   "execution_count": 3,
   "metadata": {},
   "outputs": [
    {
     "name": "stdout",
     "output_type": "stream",
     "text": [
      "obj : Size=1, Index=None, Active=True\n",
      "    Key  : Active : Sense    : Expression\n",
      "    None :   True : maximize : 0*(1 - X[0,0]) + (1 - X[0,1]) + 3*(1 - X[0,2]) + (1 - X[0,3]) + (1 - X[1,0]) + 0*(1 - X[1,1]) + 0*(1 - X[1,2]) + 2*(1 - X[1,3]) + 3*(1 - X[2,0]) + 0*(1 - X[2,1]) + 0*(1 - X[2,2]) + 4*(1 - X[2,3]) + (1 - X[3,0]) + 2*(1 - X[3,1]) + 4*(1 - X[3,2]) + 0*(1 - X[3,3])\n"
     ]
    }
   ],
   "source": [
    "# Define objective function\n",
    "\n",
    "model.obj = Objective(expr= sum(model.Q[(i,j)]*(1 - model.X[(i,j)]) for i in model.I for j in model.I), sense=maximize)\n",
    "\n",
    "model.obj.pprint()"
   ]
  },
  {
   "cell_type": "code",
   "execution_count": 4,
   "metadata": {},
   "outputs": [],
   "source": [
    "# Define constraints\n",
    "\n",
    "def const_rule1(model, i): # Constraint rule to set the diagonal values of X to be 1\n",
    "    return model.X[(i,i)] == 1\n",
    "\n",
    "model.const1 = Constraint(model.I, rule = const_rule1)\n",
    "\n",
    "\n",
    "def const_rule2(model, i, j):\n",
    "    if i !=j:\n",
    "        return model.X[(i,j)] <= 1\n",
    "    else:\n",
    "        return Constraint.Skip\n",
    "    \n",
    "model.const2 = Constraint(model.I, model.I, rule = const_rule2)\n",
    "\n",
    "def const_rule3(model, i, j):\n",
    "    if i !=j:\n",
    "        return model.X[(i,j)] >= -1\n",
    "    else:\n",
    "        return Constraint.Skip\n",
    "    \n",
    "model.const3 = Constraint(model.I, model.I, rule = const_rule3)"
   ]
  },
  {
   "cell_type": "code",
   "execution_count": 5,
   "metadata": {},
   "outputs": [
    {
     "name": "stdout",
     "output_type": "stream",
     "text": [
      "[[ 0.8660254  -0.5         0.3528287  -0.25586923]\n",
      " [-0.28867513 -0.5        -0.85253215  0.31153791]\n",
      " [-0.28867513 -0.5         0.14065217 -0.67433476]\n",
      " [-0.28867513 -0.5         0.35905128  0.61866607]]\n",
      "1\n",
      "[[-2.18862163e-01+0.j         -2.69197041e-01-0.49697225j\n",
      "  -2.69197041e-01+0.49697225j  1.46160482e-16+0.j        ]\n",
      " [ 6.06093315e-01+0.j          3.24138714e-01-0.10142937j\n",
      "   3.24138714e-01+0.10142937j -2.22044605e-16+0.j        ]\n",
      " [ 6.06093315e-01+0.j          3.24138714e-01-0.10142937j\n",
      "   3.24138714e-01+0.10142937j  7.07106781e-01+0.j        ]\n",
      " [-4.66262953e-01+0.j          6.70704029e-01+0.j\n",
      "   6.70704029e-01-0.j          7.07106781e-01+0.j        ]]\n",
      "Optimal solution found.\n",
      "Optimal solution:\n",
      "X[1,1] = 1.0\n",
      "X[1,2] = 1.0\n",
      "X[1,3] = -1.0\n",
      "X[2,1] = -1.0\n",
      "X[2,2] = 1.0\n",
      "X[2,3] = 1.0\n",
      "X[3,1] = -1.0\n",
      "X[3,2] = 1.0\n",
      "X[3,3] = 1.0\n"
     ]
    }
   ],
   "source": [
    "# Setting the solver\n",
    "solver = SolverFactory('gurobi')\n",
    "\n",
    "#  Cutting plane algorithm:\n",
    "\n",
    "i = 0\n",
    "\n",
    "while True:\n",
    "    \n",
    "    results = solver.solve(model)\n",
    "\n",
    "    # if i==0:\n",
    "    #     del model.const2\n",
    "\n",
    "    # Check for solver termination status\n",
    "    if results.solver.termination_condition != TerminationCondition.optimal:\n",
    "        print(\"Solver failed to converge.\")\n",
    "        print(\"At iteration\", i)\n",
    "        break\n",
    "    \n",
    "    # Extract the optimal solution\n",
    "    X_val = np.array([[model.X[i, j].value for j in model.I] for i in model.I])\n",
    "    \n",
    "    # Perform eigenvalue decomposition\n",
    "    eigenvalues, eigenvectors = np.linalg.eig(X_val)\n",
    "\n",
    "    print(eigenvectors)\n",
    "    \n",
    "    # Find the smallest eigenvalue\n",
    "    smallest_eigenvalue = min(eigenvalues)\n",
    "\n",
    "    # Check termination condition\n",
    "    if smallest_eigenvalue >= -1e-4:\n",
    "        print(\"Optimal solution found.\")\n",
    "        break\n",
    "    \n",
    "    # Find the eigen vector corresponding to the smallest eigen value\n",
    "    v = eigenvectors[:, np.argmin(eigenvalues)]\n",
    "    \n",
    "    # Adding additional constraints\n",
    "    model.const4 = ConstraintList()\n",
    "\n",
    "    # Add the violated constraint\n",
    "    model.const4.add(expr= sum(v[k]*model.X[(k,j)]*v[j] for k in model.I for j in model.I) >= 0)\n",
    "\n",
    "    i+=1\n",
    "    print(i)\n",
    "\n",
    "# Print optimal solution\n",
    "print(\"Optimal solution:\")\n",
    "for i in range(3):\n",
    "    for j in range(3):\n",
    "        print(f\"X[{i+1},{j+1}] = {model.X[i, j].value}\")"
   ]
  }
 ],
 "metadata": {
  "kernelspec": {
   "display_name": "opti_chat",
   "language": "python",
   "name": "python3"
  },
  "language_info": {
   "codemirror_mode": {
    "name": "ipython",
    "version": 3
   },
   "file_extension": ".py",
   "mimetype": "text/x-python",
   "name": "python",
   "nbconvert_exporter": "python",
   "pygments_lexer": "ipython3",
   "version": "3.12.1"
  }
 },
 "nbformat": 4,
 "nbformat_minor": 2
}
