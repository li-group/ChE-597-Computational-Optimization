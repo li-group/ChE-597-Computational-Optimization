{
 "cells": [
  {
   "cell_type": "markdown",
   "metadata": {},
   "source": [
    "## Homework 4 ##"
   ]
  },
  {
   "cell_type": "markdown",
   "metadata": {},
   "source": [
    "### Question 2: Max-flow problem formulation as an LP problem\n",
    "\n",
    "Consider a directed graph $G = (V,E)$, where $V$ denotes a set of vertices and $E \\subseteq V \\times V$ denotes a set of edges. Let $e = (u, v) \\in E$ be an edge for vertex $u$ to vertex $v$, we define $e \\in \\delta^+ (v)$ to be the set of all outgoing edges to vertex $v$ and $e \\in \\delta^- (v)$ to be the set of all incoming nodes from vertex $v$. Let $c(e), \\ e \\in E$ be the capacity of the edge, i.e., the maximum amount of commodity that one can push through the edge. Let $f(e)$ be the flow across an edge $e$. $f(e)$ is non-negative as the flow in the edge cannot flow in the reverse direction i.e., towards the source. Also, the flow across each node should be conserved. In other words, the flow coming into a node has to be equal to the flow leaving the node. This conservation property does not apply to the source node $(s)$ and the sink node $(t)$. Formulating a linear programming problem to maximize the overall flow departing from the source node leads us to the formulation provided below: \n",
    "\n",
    "\\begin{array}{lll}\n",
    "\\text{max} & \\sum_{e \\in \\delta^{+}(s)} f(e) - \\sum_{e \\in \\delta^{-}(s)} f(e) & \\\\ \\\\\n",
    "\\text{subject to} & \\sum_{e \\in \\delta^{-}(v)} f(e) = \\sum_{e \\in \\delta^{+}(v)} f(e) & \\forall v \\in V \\setminus \\{s, t\\}\\quad \\quad \\text{  (flow conservation)} \\\\ \\\\\n",
    "& f(e) \\leq c(e) & \\forall e \\in E \\quad \\quad \\text{  (capacity constraints)}\\\\ \\\\\n",
    "& f(e) \\geq 0 & \\forall e \\in E\n",
    "\\end{array}\n",
    "\n",
    "For the directed graph given below, solve the max-flow problem using Pyomo\n"
   ]
  },
  {
   "cell_type": "code",
   "execution_count": 1,
   "metadata": {},
   "outputs": [
    {
     "data": {
      "text/html": [
       "<img src=\"fig1.png\" width=\"500\" height=\"300\"/>"
      ],
      "text/plain": [
       "<IPython.core.display.Image object>"
      ]
     },
     "execution_count": 1,
     "metadata": {},
     "output_type": "execute_result"
    }
   ],
   "source": [
    "# import image module \n",
    "from IPython.display import Image \n",
    "  \n",
    "# get the image \n",
    "Image(url=\"fig1.png\", width=500, height=300) "
   ]
  },
  {
   "cell_type": "code",
   "execution_count": 2,
   "metadata": {},
   "outputs": [],
   "source": [
    "# Including Libraries\n",
    "\n",
    "from pyomo.environ import *\n",
    "import numpy as np\n",
    "import pprint"
   ]
  },
  {
   "cell_type": "code",
   "execution_count": 3,
   "metadata": {},
   "outputs": [],
   "source": [
    "# Create a Pyomo Model\n",
    "model = ConcreteModel()\n",
    "\n",
    "# Define Sets\n",
    "model.v = RangeSet(0,5)\n",
    "\n",
    "edges = [(0,1), (0,2), (1,2), (1,3), (2,1), (2,4), (3,2), (3,5), (4,3), (4,5)] # Edge tuples\n",
    "model.edges = Set(initialize = edges) \n",
    "\n",
    "# Define parameters\n",
    "\n",
    "cap_list = [16, 13, 10, 12, 4, 14, 9, 20, 7, 4]\n",
    "capacities = {(i, j): cap_list[idx] for idx, (i, j) in enumerate(model.edges)}\n",
    "\n",
    "model.cap = Param(model.edges, initialize = capacities)\n",
    "\n",
    "# Define Variables\n",
    "model.flow = Var(model.edges, domain= NonNegativeReals)"
   ]
  },
  {
   "cell_type": "code",
   "execution_count": 4,
   "metadata": {},
   "outputs": [],
   "source": [
    "# Define objective\n",
    "\n",
    "model.obj = Objective(expr = sum(model.flow[(i,j)] for i, j in model.edges if i ==0) -  sum(model.flow[(i,j)] for i,j in model.edges if j ==0), sense = maximize)"
   ]
  },
  {
   "cell_type": "code",
   "execution_count": 5,
   "metadata": {},
   "outputs": [],
   "source": [
    "# Define constraints\n",
    "\n",
    "# Flow conservation constraint\n",
    "\n",
    "def flow_conservation_rule(model, v):\n",
    "    if v == 0 or v ==5:\n",
    "        return Constraint.Skip\n",
    "    else:\n",
    "        return sum(model.flow[(i,j)] for i,j in model.edges if j ==v) == sum(model.flow[(i,j)] for i,j in model.edges if i ==v)\n",
    "        \n",
    "model.flow_consv = Constraint(model.v, rule = flow_conservation_rule)\n",
    "\n",
    "# Capacity constraint\n",
    "\n",
    "def capacity_rule(model, i, j):\n",
    "    return model.flow[(i,j)] <= model.cap[(i,j)]\n",
    "\n",
    "model.capacity = Constraint(model.edges, rule = capacity_rule)"
   ]
  },
  {
   "cell_type": "code",
   "execution_count": 19,
   "metadata": {},
   "outputs": [
    {
     "data": {
      "text/plain": [
       "{'Problem': [{'Name': 'x1', 'Lower bound': 23.0, 'Upper bound': 23.0, 'Number of objectives': 1, 'Number of constraints': 14, 'Number of variables': 10, 'Number of binary variables': 0, 'Number of integer variables': 0, 'Number of continuous variables': 10, 'Number of nonzeros': 26, 'Sense': 'maximize'}], 'Solver': [{'Status': 'ok', 'Return code': '0', 'Message': 'Model was solved to optimality (subject to tolerances), and an optimal solution is available.', 'Termination condition': 'optimal', 'Termination message': 'Model was solved to optimality (subject to tolerances), and an optimal solution is available.', 'Wall time': '0.0', 'Error rc': 0, 'Time': 0.3313307762145996}], 'Solution': [OrderedDict([('number of solutions', 0), ('number of solutions displayed', 0)])]}"
      ]
     },
     "execution_count": 19,
     "metadata": {},
     "output_type": "execute_result"
    }
   ],
   "source": [
    "# Solve the model\n",
    "\n",
    "solver = SolverFactory('gurobi')\n",
    "solver.solve(model)"
   ]
  },
  {
   "cell_type": "code",
   "execution_count": 20,
   "metadata": {},
   "outputs": [
    {
     "name": "stdout",
     "output_type": "stream",
     "text": [
      "The optimal objective value is: 23.0\n",
      "\n",
      "Printing variable values:\n",
      "Flow through edge (0, 1) is: 16.0\n",
      "Flow through edge (0, 2) is: 7.0\n",
      "Flow through edge (1, 2) is: 4.0\n",
      "Flow through edge (1, 3) is: 12.0\n",
      "Flow through edge (2, 1) is: 0.0\n",
      "Flow through edge (2, 4) is: 11.0\n",
      "Flow through edge (3, 2) is: 0.0\n",
      "Flow through edge (3, 5) is: 19.0\n",
      "Flow through edge (4, 3) is: 7.0\n",
      "Flow through edge (4, 5) is: 4.0\n"
     ]
    }
   ],
   "source": [
    "# printing the result\n",
    "\n",
    "print(\"The optimal objective value is:\", model.obj())\n",
    "\n",
    "print(\"\\nPrinting variable values:\")\n",
    "for i,j in model.edges:\n",
    "    print(\"Flow through edge\", (i,j), \"is:\" ,model.flow[(i,j)].value)"
   ]
  }
 ],
 "metadata": {
  "kernelspec": {
   "display_name": "opti_chat",
   "language": "python",
   "name": "python3"
  },
  "language_info": {
   "codemirror_mode": {
    "name": "ipython",
    "version": 3
   },
   "file_extension": ".py",
   "mimetype": "text/x-python",
   "name": "python",
   "nbconvert_exporter": "python",
   "pygments_lexer": "ipython3",
   "version": "3.11.5"
  }
 },
 "nbformat": 4,
 "nbformat_minor": 2
}
