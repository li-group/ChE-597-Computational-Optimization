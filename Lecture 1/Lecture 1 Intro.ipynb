{
 "cells": [
  {
   "cell_type": "markdown",
   "metadata": {},
   "source": [
    "# A Step-by-Step Introduction for Pyomo Implementation"
   ]
  },
  {
   "cell_type": "markdown",
   "metadata": {},
   "source": [
    "## 1. Linear Programming Formulation for Diet Problem\n",
    "\n",
    "### Problem Statement\n",
    "\n",
    "A dietitian is planning a meal that meets the daily nutritional requirements for calories, protein, and vitamins at a minimum cost.\n",
    "\n",
    "| Food Item | Cost (\\$) | Calories | Protein (g) | Vitamins (\\% Daily) |\n",
    "|-----------|-----------|----------|-------------|----------------------|\n",
    "| Apple     | 1         | 100      | 0.5         | 2                    |\n",
    "| Bread     | 0.50      | 200      | 4           | 0                    |\n",
    "| Milk      | 2         | 150      | 8           | 10                   |\n",
    "| Egg       | 0.30      | 70       | 6           | 0                    |\n",
    "\n",
    "**Daily Nutritional Requirements:**\n",
    "- Calories: 500\n",
    "- Protein: 50g\n",
    "- Vitamins: 100\\%\n",
    "\n",
    "Now we look forward to how a dietitian can bank on solving a LP model for the desired objective.\n",
    "\n",
    "\n"
   ]
  },
  {
   "cell_type": "code",
   "execution_count": 17,
   "metadata": {},
   "outputs": [],
   "source": [
    "from pyomo.environ import *\n",
    "\n",
    "# Model\n",
    "model = ConcreteModel()\n",
    "\n",
    "# Sets\n",
    "model.foods = Set(initialize=['Apple', 'Bread', 'Milk', 'Egg'])\n",
    "model.nutrients = Set(initialize=['Calories', 'Protein', 'Vitamins'])\n",
    "\n",
    "# Data: Cost, nutritional content, and requirements\n",
    "cost_data = {'Apple': 1, 'Bread': 0.5, 'Milk': 2, 'Egg': 0.3}\n",
    "nutrients_data = {\n",
    "    ('Apple', 'Calories'): 100, ('Apple', 'Protein'): 0.5, ('Apple', 'Vitamins'): 2,\n",
    "    ('Bread', 'Calories'): 200, ('Bread', 'Protein'): 4, ('Bread', 'Vitamins'): 0,\n",
    "    ('Milk', 'Calories'): 150, ('Milk', 'Protein'): 8, ('Milk', 'Vitamins'): 10,\n",
    "    ('Egg', 'Calories'): 70, ('Egg', 'Protein'): 6, ('Egg', 'Vitamins'): 0\n",
    "}\n",
    "\n",
    "requirements_data = {'Calories': 500, 'Protein': 50, 'Vitamins': 100}\n"
   ]
  },
  {
   "cell_type": "markdown",
   "metadata": {},
   "source": [
    "### Model\n",
    "\n",
    "Define decision variables: $y_1$ for Apples, $y_2$ for Bread, $y_3$ for Milk, $y_4$ for Eggs. $y_i$ represents the quantity of each food item.\n",
    "\n",
    "Minimize: $y_1 + 0.5y_2 + 2y_3 + 0.3y_4$\n",
    "\n",
    "Subject to:\n",
    "- $100y_1 + 200y_2 + 150y_3 + 70y_4 \\geq 500$\n",
    "- $0.5y_1 + 4y_2 + 8y_3 + 6y_4 \\geq 50$\n",
    "- $2y_1 + 0y_2 + 10y_3 + 0y_4 \\geq 100$\n",
    "\n",
    "Constraints: $y_1, y_2, y_3, y_4 \\geq 0$\n",
    "\n",
    "The three listed constraints help to ensure dietary requirements for calories, protein, and vitamins are met.\n",
    "\n",
    "### Implementation\n"
   ]
  },
  {
   "cell_type": "code",
   "execution_count": 18,
   "metadata": {},
   "outputs": [
    {
     "name": "stdout",
     "output_type": "stream",
     "text": [
      "Apple: 0.0\n",
      "Bread: 0.0\n",
      "Milk: 10.0\n",
      "Egg: 0.0\n",
      "\n",
      " Total Cost: 20.0\n"
     ]
    }
   ],
   "source": [
    "# Parameters\n",
    "model.cost = Param(model.foods, initialize=cost_data)\n",
    "model.content = Param(model.foods, model.nutrients, \n",
    "                        initialize=nutrients_data)\n",
    "model.requirements = Param(model.nutrients, \n",
    "                            initialize=requirements_data)\n",
    "\n",
    "# Decision Variables\n",
    "model.x = Var(model.foods, domain=NonNegativeReals)\n",
    "\n",
    "# Nutrient Constraints\n",
    "def nutrient_rule(model, nutrient):\n",
    "    return sum(model.content[f, nutrient] * model.x[f] \n",
    "                for f in model.foods) >= model.requirements[nutrient]\n",
    "model.NutrientConstraints = Constraint(model.nutrients, rule=nutrient_rule)\n",
    "\n",
    "# Objective Function\n",
    "model.total_cost = Objective(expr=\n",
    "    sum(model.cost[f] * model.x[f] for f in model.foods), \n",
    "    sense=minimize)\n",
    "\n",
    "# Solve the model using a solver\n",
    "SolverFactory('gurobi').solve(model)\n",
    "\n",
    "# Print the solution\n",
    "for f in model.foods:\n",
    "    print(f\"{f}: {model.x[f].value}\")\n",
    "\n",
    "# Print the total cost\n",
    "print('\\n',f\"Total Cost: {model.total_cost.expr()}\")"
   ]
  },
  {
   "cell_type": "markdown",
   "metadata": {},
   "source": [
    "## 2. Binary Knapsack Problem\n",
    "\n",
    "### Problem Statement\n",
    "\n",
    "Consider a hiker who needs to choose the most valuable items for a hike without overloading the backpack.\n",
    "\n",
    "- Items:\n",
    "  - Tent (Value: $120, Weight: 2kg)\n",
    "  - Stove (Value: $80, Weight: 1kg)\n",
    "  - Food (Value: $60, Weight: 1kg)\n",
    "\n",
    "- Backpack capacity: 3.5kg\n",
    "\n",
    "Objective: Maximize the value of items in the backpack.\n"
   ]
  },
  {
   "cell_type": "code",
   "execution_count": 15,
   "metadata": {},
   "outputs": [],
   "source": [
    "from pyomo.environ import *\n",
    "\n",
    "# Model\n",
    "model = ConcreteModel()\n",
    "\n",
    "# Sets\n",
    "model.item = Set(initialize=['Tent', 'Stove', 'Food'])\n",
    "\n",
    "# Data\n",
    "items_value = {\n",
    "    ('Tent'): 120,\n",
    "    ('Stove'): 80,\n",
    "    ('Food'): 60\n",
    "}\n",
    "\n",
    "items_weight = { \n",
    "    ('Tent'): 2,\n",
    "    ('Stove'): 1,\n",
    "    ('Food'): 1\n",
    "}\n",
    "\n",
    "pack_capacity = 3.5\n"
   ]
  },
  {
   "cell_type": "markdown",
   "metadata": {},
   "source": [
    "### Model\n",
    "\n",
    "Define binary decision variables: $x_1$ for Tent, $x_2$ for Stove, $x_3$ for Food. \n",
    "> $x_i = 1$ if the item is chosen, and 0 otherwise.\n",
    "\n",
    "Maximize $120x_1 + 80x_2 + 60x_3$\n",
    "\n",
    "Subject to $2x_1 + x_2 + x_3 \\leq 3.5$\n",
    "\n",
    "where $x_1, x_2, x_3 \\in \\{0, 1\\}$.\n",
    "\n",
    "\n",
    "\n",
    "### Implementation"
   ]
  },
  {
   "cell_type": "code",
   "execution_count": 16,
   "metadata": {},
   "outputs": [
    {
     "name": "stdout",
     "output_type": "stream",
     "text": [
      "Tent: 1.0\n",
      "Stove: 1.0\n",
      "Food: 0.0\n",
      "\n",
      " Total Value: 200.0 \n",
      "\n",
      "'1 means that the item is selected'\n"
     ]
    }
   ],
   "source": [
    "# Parameters\n",
    "model.items_value = Param(model.item,initialize=items_value)\n",
    "model.items_weight = Param(model.item,initialize=items_weight)\n",
    "model.pack_capacity = Param(initialize=pack_capacity)\n",
    "\n",
    "# Decision Variables (Note: defined to be Binary)\n",
    "model.x = Var(model.item, domain=Binary)\n",
    "\n",
    "# Weight Constraint\n",
    "model.WeightConstraint = Constraint(expr = sum(model.items_weight[i] * model.x[i] \n",
    "                for i in model.item) <= model.pack_capacity)\n",
    "\n",
    "# Objective Function\n",
    "model.total_value = Objective(expr=\n",
    "    sum(model.items_value[i] * model.x[i] for i in model.item), \n",
    "    sense=maximize)\n",
    "\n",
    "# Solve the model using a solver\n",
    "SolverFactory('gurobi').solve(model)\n",
    "\n",
    "# Print the solution\n",
    "for i in model.item:\n",
    "    print(f\"{i}: {model.x[i].value}\")\n",
    "\n",
    "# Print the total cost\n",
    "print('\\n',f\"Total Value: {model.total_value.expr()}\",'\\n')\n",
    "\n",
    "print(f\"'1 means that the item is selected'\")"
   ]
  }
 ],
 "metadata": {
  "kernelspec": {
   "display_name": "base",
   "language": "python",
   "name": "python3"
  },
  "language_info": {
   "codemirror_mode": {
    "name": "ipython",
    "version": 3
   },
   "file_extension": ".py",
   "mimetype": "text/x-python",
   "name": "python",
   "nbconvert_exporter": "python",
   "pygments_lexer": "ipython3",
   "version": "3.11.5"
  }
 },
 "nbformat": 4,
 "nbformat_minor": 2
}
