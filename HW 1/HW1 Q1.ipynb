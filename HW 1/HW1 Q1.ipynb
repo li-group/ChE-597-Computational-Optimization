{
 "cells": [
  {
   "cell_type": "markdown",
   "id": "6c117e8e",
   "metadata": {},
   "source": [
    "# Problem Statement\n",
    "\n",
    "A small engineering consulting firm has 3 senior designers available to work on the firm's 4 current projects over the next 2 weeks. Each designer has 80 hours to split among the projects, and the following table shows the manager's scoring $(0=$ nil to $100=$ perfect $)$ of the capability of each designer to contribute to each project, along with his estimate of the hours that each project will require.\n",
    "\n",
    "\n",
    "|      Designer     | Project 1    | Project 2    | Project 3    | Project 4    |\n",
    "|----------|--------------|--------------|--------------|--------------|\n",
    "| 1        | 90           | 80           | 10           | 50           |\n",
    "| 2        | 60           | 70           | 50           | 65           |\n",
    "| 3        | 70           | 40           | 80           | 85           |\n",
    "\n",
    "\n",
    "\n",
    "|     **Required:**      | Project 1    | Project 2    | Project 3    | Project 4    |\n",
    "|-----------|--------------|--------------|--------------|--------------|\n",
    "| **Hours** | 70           | 50           | 85           | 35           |\n"
   ]
  },
  {
   "cell_type": "markdown",
   "id": "26cd09a6",
   "metadata": {},
   "source": [
    "#### Imports"
   ]
  },
  {
   "cell_type": "code",
   "execution_count": 83,
   "id": "b2bad889-3194-41db-a627-a955f1a6638b",
   "metadata": {
    "tags": []
   },
   "outputs": [],
   "source": [
    "import matplotlib.pyplot as plt\n",
    "import numpy as np\n",
    "import pandas as pd\n",
    "\n",
    "import shutil\n",
    "import sys\n",
    "import os.path\n",
    "from pyomo.environ import *\n",
    "\n",
    "import pyomo.environ as pe\n",
    "import pyomo.opt as po"
   ]
  },
  {
   "cell_type": "markdown",
   "id": "91c24922",
   "metadata": {},
   "source": [
    "#### Defining Data"
   ]
  },
  {
   "cell_type": "code",
   "execution_count": 84,
   "id": "2723c9a1-041a-40a4-9acb-da5a4c74bd00",
   "metadata": {
    "tags": []
   },
   "outputs": [],
   "source": [
    "Engg = {'E1','E2','E3'}    # Check the type by: type(Engg)"
   ]
  },
  {
   "cell_type": "code",
   "execution_count": 85,
   "id": "106c42e4-1f57-4790-882f-80f6f29f6d98",
   "metadata": {
    "tags": []
   },
   "outputs": [],
   "source": [
    "Proj = {'P1','P2','P3','P4'}"
   ]
  },
  {
   "cell_type": "code",
   "execution_count": 86,
   "id": "d997a92e-bcd3-4340-8ce5-7353dd94aeed",
   "metadata": {
    "tags": []
   },
   "outputs": [],
   "source": [
    "score = {\n",
    "    ('E1','P1'):90,\n",
    "    ('E1','P2'):80,\n",
    "    ('E1','P3'):10,\n",
    "    ('E1','P4'):50,\n",
    "    ('E2','P1'):60,\n",
    "    ('E2','P2'):70,\n",
    "    ('E2','P3'):50,\n",
    "    ('E2','P4'):65,\n",
    "    ('E3','P1'):70,\n",
    "    ('E3','P2'):40,\n",
    "    ('E3','P3'):80,\n",
    "    ('E3','P4'):85,\n",
    "}   # Dictionary with tuples as keys (based on our defined sets)"
   ]
  },
  {
   "cell_type": "code",
   "execution_count": 87,
   "id": "15bb9ed8-eede-4f9a-a5cc-bdc5c09c142a",
   "metadata": {
    "tags": []
   },
   "outputs": [],
   "source": [
    "hours_needed = {\n",
    "    ('P1'):70,\n",
    "    ('P2'):50,\n",
    "    ('P3'):85,\n",
    "    ('P4'):35,\n",
    "}"
   ]
  },
  {
   "cell_type": "code",
   "execution_count": 88,
   "id": "356fdc38-4312-44d4-b1f3-14583a6b2cbc",
   "metadata": {
    "tags": []
   },
   "outputs": [],
   "source": [
    "max_hours = 80"
   ]
  },
  {
   "cell_type": "markdown",
   "id": "2865fe21",
   "metadata": {},
   "source": [
    "## Model"
   ]
  },
  {
   "cell_type": "markdown",
   "id": "fc1d0068",
   "metadata": {},
   "source": [
    "Let the design engineers be set $E$ with $E_{i} \\; :i \\in [1,2,3]$ and the projects be $P$ with  $P_{j} \\; :j \\in [1,2,3,4]$. We can model the problem as allocation of the number of hours $H_{ij}$ with each design engineer $E_{i}$ $\\forall i $ that are being put onto the projects $P_{j}$ $\\forall j $, given the $i^{th}$ engineer $E$ works on $j^{th}$ project with given score $e_{ij}$.\n",
    "\n",
    "Let the maximum hours available with each engineer be $H_{max}$ and the required number of hours for each project $P_j$ be $R_{j} \\; \\forall j $. Thus, then the mathematical formulation can be made as:\n",
    "\n",
    "$$\n",
    "\\text{Maximize } \\sum_{i \\in E} \\sum_{j \\in P} H_{ij} e_{ij}\n",
    "$$\n",
    "\n",
    "Subject to:\n",
    "\n",
    "$$\n",
    "\\sum_{j \\in P} H_{ij} \\leq H_{max} \\;\\; \\forall i \\in E\n",
    "$$\n",
    "\n",
    "$$\n",
    "\\sum_{i \\in E} H_{ij} \\geq R_j \\;\\; \\forall j \\in P\n",
    "$$\n",
    "\n",
    "$$\n",
    "H_{ij} \\geq 0 \\;\\; \\forall i,j\n",
    "$$\n"
   ]
  },
  {
   "cell_type": "markdown",
   "id": "2b0c737d",
   "metadata": {},
   "source": [
    "## Implement"
   ]
  },
  {
   "cell_type": "code",
   "execution_count": 89,
   "id": "f98d874d-77c6-4b5a-b07a-566e7eb15e1a",
   "metadata": {
    "tags": []
   },
   "outputs": [],
   "source": [
    "m = pe.ConcreteModel()"
   ]
  },
  {
   "cell_type": "markdown",
   "id": "8a44544b",
   "metadata": {},
   "source": [
    "#### Initializing Sets"
   ]
  },
  {
   "cell_type": "code",
   "execution_count": null,
   "id": "8b6f9860-0007-4b14-96e0-681b27100b52",
   "metadata": {
    "tags": []
   },
   "outputs": [],
   "source": [
    "m.Engg = pe.Set(initialize=Engg)\n",
    "m.Proj = pe.Set(initialize=Proj)     # Ignore if any warnings appear"
   ]
  },
  {
   "cell_type": "markdown",
   "id": "ede40bc1",
   "metadata": {},
   "source": [
    "#### Initializing Parameters"
   ]
  },
  {
   "cell_type": "code",
   "execution_count": 91,
   "id": "f08eef5a-0a44-41ee-8461-55cbedd454ac",
   "metadata": {
    "tags": []
   },
   "outputs": [],
   "source": [
    "m.score = pe.Param(m.Engg, m.Proj, initialize=score)\n",
    "m.hours_needed = pe.Param(m.Proj, initialize=hours_needed)\n",
    "m.max_hours = pe.Param(initialize=max_hours)"
   ]
  },
  {
   "cell_type": "markdown",
   "id": "c1d2b4e7",
   "metadata": {},
   "source": [
    "#### Initializing [Variables](https://pyomo.readthedocs.io/en/stable/pyomo_modeling_components/Sets.html) \n",
    "> Note: Refer the documnetation to also note other Predefined Virtual Sets"
   ]
  },
  {
   "cell_type": "code",
   "execution_count": 92,
   "id": "924f785b-ab20-480a-8e86-c7e864308e33",
   "metadata": {
    "tags": []
   },
   "outputs": [],
   "source": [
    "m.H = pe.Var(m.Engg, m.Proj, domain=pe.NonNegativeReals) \n"
   ]
  },
  {
   "cell_type": "markdown",
   "id": "5ce34db7",
   "metadata": {},
   "source": [
    "#### Defining Objective"
   ]
  },
  {
   "cell_type": "code",
   "execution_count": 93,
   "id": "90d750d6-132a-4bf5-a8c3-a48ae106dfeb",
   "metadata": {
    "tags": []
   },
   "outputs": [],
   "source": [
    "obj_expr = sum(m.H[i,j]*m.score[i,j] \n",
    "               for i in m.Engg for j in m.Proj)\n",
    "m.obj = pe.Objective(sense=pe.maximize, expr=obj_expr)"
   ]
  },
  {
   "cell_type": "markdown",
   "id": "cb6009b5",
   "metadata": {},
   "source": [
    "#### Defining [Constraints](https://pyomo.readthedocs.io/en/stable/pyomo_modeling_components/Constraints.html)\n",
    "> Note: Refer the documentation to see other ways to write the constraints, such as using a Constraint List"
   ]
  },
  {
   "cell_type": "code",
   "execution_count": 94,
   "id": "1bead16c-2b53-4a73-99fa-76c947862ed3",
   "metadata": {
    "tags": []
   },
   "outputs": [],
   "source": [
    "def maxhour_rule(m,i):\n",
    "    return sum(m.H[i,j] for j in m.Proj) <= m.max_hours\n",
    "\n",
    "m.maximum_hours =  pe.Constraint(m.Engg, rule=maxhour_rule)"
   ]
  },
  {
   "cell_type": "code",
   "execution_count": 95,
   "id": "1d88855f-ed38-4838-9b2e-b48405323592",
   "metadata": {
    "tags": []
   },
   "outputs": [],
   "source": [
    "def projhour_rule(m,j):  \n",
    "    return sum(m.H[i,j] for i in m.Engg) >= m.hours_needed[j]\n",
    "\n",
    "m.proj_hours = pe.Constraint(m.Proj, rule=projhour_rule)"
   ]
  },
  {
   "cell_type": "markdown",
   "id": "b32ed018",
   "metadata": {},
   "source": [
    "## Solve and Postprocess"
   ]
  },
  {
   "cell_type": "code",
   "execution_count": 96,
   "id": "1750b5ea-074b-40f1-bf9e-677b065fbe32",
   "metadata": {
    "tags": []
   },
   "outputs": [
    {
     "name": "stdout",
     "output_type": "stream",
     "text": [
      "Set parameter Username\n",
      "Academic license - for non-commercial use only - expires 2024-12-19\n",
      "Read LP format model from file /var/folders/ch/190yzmt56zsfp9c_z9g_fcjc0000gn/T/tmpr57wb_41.pyomo.lp\n",
      "Reading time = 0.00 seconds\n",
      "x1: 7 rows, 12 columns, 24 nonzeros\n",
      "Gurobi Optimizer version 11.0.0 build v11.0.0rc2 (mac64[x86] - Darwin 21.6.0 21G1974)\n",
      "\n",
      "CPU model: Intel(R) Core(TM) i5-5250U CPU @ 1.60GHz\n",
      "Thread count: 2 physical cores, 4 logical processors, using up to 4 threads\n",
      "\n",
      "Optimize a model with 7 rows, 12 columns and 24 nonzeros\n",
      "Model fingerprint: 0x55465dd5\n",
      "Coefficient statistics:\n",
      "  Matrix range     [1e+00, 1e+00]\n",
      "  Objective range  [1e+01, 9e+01]\n",
      "  Bounds range     [0e+00, 0e+00]\n",
      "  RHS range        [4e+01, 8e+01]\n",
      "Presolve time: 0.00s\n",
      "Presolved: 7 rows, 12 columns, 24 nonzeros\n",
      "\n",
      "Iteration    Objective       Primal Inf.    Dual Inf.      Time\n",
      "       0    7.5000000e+32   1.200000e+31   7.500000e+02      0s\n",
      "       7    1.8825000e+04   0.000000e+00   0.000000e+00      0s\n",
      "\n",
      "Solved in 7 iterations and 0.01 seconds (0.00 work units)\n",
      "Optimal objective  1.882500000e+04\n"
     ]
    }
   ],
   "source": [
    "solver = po.SolverFactory('gurobi')\n",
    "results = solver.solve(m, tee=True)"
   ]
  },
  {
   "cell_type": "code",
   "execution_count": 100,
   "id": "6bd4b914-2be2-4d79-831e-0d6856ad4ac2",
   "metadata": {
    "tags": []
   },
   "outputs": [
    {
     "name": "stdout",
     "output_type": "stream",
     "text": [
      "Optimal Assignment Objective:  18825.0\n"
     ]
    }
   ],
   "source": [
    "print(\"Optimal Assignment Objective: \",pe.value(m.obj))"
   ]
  },
  {
   "cell_type": "code",
   "execution_count": 98,
   "id": "8aefc768-46c2-4f7f-92c2-c7569dab601b",
   "metadata": {
    "tags": []
   },
   "outputs": [
    {
     "name": "stdout",
     "output_type": "stream",
     "text": [
      "Engg E2  working on Project P1 =  0.0  Hours\n",
      "Engg E2  working on Project P4 =  35.0  Hours\n",
      "Engg E2  working on Project P2 =  40.0  Hours\n",
      "Engg E2  working on Project P3 =  5.0  Hours\n",
      "Engg E1  working on Project P1 =  70.0  Hours\n",
      "Engg E1  working on Project P4 =  0.0  Hours\n",
      "Engg E1  working on Project P2 =  10.0  Hours\n",
      "Engg E1  working on Project P3 =  0.0  Hours\n",
      "Engg E3  working on Project P1 =  0.0  Hours\n",
      "Engg E3  working on Project P4 =  0.0  Hours\n",
      "Engg E3  working on Project P2 =  0.0  Hours\n",
      "Engg E3  working on Project P3 =  80.0  Hours\n"
     ]
    }
   ],
   "source": [
    "for i in m.Engg:\n",
    "    for j in m.Proj:\n",
    "        print(\"Engg\",i,\" working on Project\",j,\"= \",pe.value(m.H[i,j]),\" Hours\")\n"
   ]
  },
  {
   "cell_type": "code",
   "execution_count": 99,
   "id": "7b51b43e-ea20-43d9-b0d7-41c5e0656ed0",
   "metadata": {},
   "outputs": [
    {
     "name": "stdout",
     "output_type": "stream",
     "text": [
      "Hours Worked by Engineer E2 =  80.0  Hours\n",
      "Hours Worked by Engineer E1 =  80.0  Hours\n",
      "Hours Worked by Engineer E3 =  80.0  Hours\n"
     ]
    }
   ],
   "source": [
    "for i in m.Engg:\n",
    "    h = pe.value(sum(m.H[i,j] for j in m.Proj))\n",
    "    print(\"Hours Worked by Engineer\",i,\"= \",h,\" Hours\")"
   ]
  }
 ],
 "metadata": {
  "kernelspec": {
   "display_name": "Python 3 (ipykernel)",
   "language": "python",
   "name": "python3"
  },
  "language_info": {
   "codemirror_mode": {
    "name": "ipython",
    "version": 3
   },
   "file_extension": ".py",
   "mimetype": "text/x-python",
   "name": "python",
   "nbconvert_exporter": "python",
   "pygments_lexer": "ipython3",
   "version": "3.11.5"
  }
 },
 "nbformat": 4,
 "nbformat_minor": 5
}
